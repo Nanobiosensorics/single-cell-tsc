{
 "cells": [
  {
   "cell_type": "code",
   "execution_count": 1,
   "metadata": {},
   "outputs": [],
   "source": [
    "import os\n",
    "from docx import Document\n",
    "from docx.shared import Inches\n",
    "\n",
    "m_lens = ['0.5hrs', '1hrs', '1.5hrs', '2hrs', '2.5hrs']\n",
    "\n",
    "RESULT_PATH = './results/9th_run/'\n",
    "MODEL = 'mcdcnn'\n",
    "\n",
    "relevant_files = ['tst-types-hist.png', 'tst-predictions-types.png', 'conf-matrix.png', 'conf-graph.png']\n",
    "models = ['mcdcnn', 'inception', 'cnn', 'resnet']\n",
    "training_metrics_files = ['epochs_acc.png', 'epochs_loss.png']\n",
    "conf_files = ['conf-matrix.png', 'conf-graph.png']\n",
    "hist = ['tst-types-hist.png']\n",
    "meas_dirs = [['mdamb231-mcf7-hela',\n",
    " 'breastcancer-hela'],\n",
    " ['preo-hela-mdamb231-mcf7-lclc',\n",
    " 'preo-hela-breastcancer-lclc'],\n",
    " ['hela-mdamb231-mcf7-lclc',\n",
    " 'hela-breastcancer-lclc'],\n",
    " 'mdamb231-mcf7',\n",
    " ]\n"
   ]
  },
  {
   "cell_type": "code",
   "execution_count": 2,
   "metadata": {},
   "outputs": [],
   "source": [
    "\n",
    "# meas_dirs = [ folder for folder in os.listdir(result_path)]\n",
    "# meas_paths = [ os.path.join(result_path, folder) for folder in meas_dirs]"
   ]
  },
  {
   "cell_type": "code",
   "execution_count": 3,
   "metadata": {},
   "outputs": [],
   "source": [
    "# for path in meas_paths:\n",
    "#     files = [ os.path.join(path, file) for file in os.listdir(path) if os.path.isfile(os.path.join(path, file))]\n",
    "#     model_path = os.path.join(path, MODEL)\n",
    "#     for file in os.listdir(model_path):\n",
    "#         file_path = os.path.join(model_path, file)\n",
    "#         if file_path.endswith('png'):\n",
    "#             files.append(file_path)\n",
    "            \n",
    "#     train_path = os.path.join(model_path, 'fibronectin_full_itr_0')\n",
    "#     for file in os.listdir(train_path):\n",
    "#         file_path = os.path.join(train_path, file)\n",
    "#         if file in relevant_files:\n",
    "#             files.append(file_path)\n",
    "#     print(len(files), files)"
   ]
  },
  {
   "cell_type": "code",
   "execution_count": 4,
   "metadata": {},
   "outputs": [
    {
     "data": {
      "text/plain": [
       "['mdamb231-mcf7-hela', 'breastcancer-hela']"
      ]
     },
     "execution_count": 4,
     "metadata": {},
     "output_type": "execute_result"
    }
   ],
   "source": [
    "meas_dirs[0]"
   ]
  },
  {
   "cell_type": "code",
   "execution_count": 6,
   "metadata": {},
   "outputs": [],
   "source": [
    "for m_len in m_lens:\n",
    "    result_path = os.path.join(RESULT_PATH, m_len)\n",
    "    document  = Document()\n",
    "    for dr in meas_dirs:\n",
    "        for model in models:\n",
    "            if type(dr) == str:\n",
    "                path = os.path.join(result_path, dr, model, 'train-test_itr_0')\n",
    "                p = document.add_paragraph()\n",
    "                r = p.add_run()\n",
    "                r.add_text(f\"Dataset: {dr} \")\n",
    "                r.add_break()\n",
    "                r.add_text(f\"Model: {model} \")\n",
    "                \n",
    "                p = document.add_paragraph()\n",
    "                r = p.add_run()\n",
    "\n",
    "                r.add_picture(os.path.join(path, training_metrics_files[0]), width=Inches(2.65), height=Inches(2))\n",
    "                r.add_picture(os.path.join(path, training_metrics_files[1]), width=Inches(2.65), height=Inches(2))\n",
    "\n",
    "                p = document.add_paragraph()\n",
    "                r = p.add_run()\n",
    "\n",
    "                r.add_picture(os.path.join(path, conf_files[0]), height=Inches(3))\n",
    "                r.add_picture(os.path.join(path, conf_files[1]), height=Inches(3))\n",
    "\n",
    "                p = document.add_paragraph()\n",
    "                r = p.add_run()\n",
    "\n",
    "                r.add_picture(os.path.join(path, hist[0]), height=Inches(8.5))\n",
    "            else:\n",
    "                path1 = os.path.join(result_path, dr[0], model, 'train-test_itr_0')\n",
    "                path2 = os.path.join(result_path, dr[1], model, 'train-test_itr_0')\n",
    "                p = document.add_paragraph()\n",
    "                r = p.add_run()\n",
    "                r.add_text(f\"Dataset: {', '.join(dr)} \")\n",
    "                r.add_break()\n",
    "                r.add_text(f\"Model: {model} \")\n",
    "                \n",
    "                p = document.add_paragraph()\n",
    "                r = p.add_run()\n",
    "\n",
    "                r.add_picture(os.path.join(path1, conf_files[0]), width=Inches(2.65))\n",
    "                r.add_picture(os.path.join(path2, conf_files[0]), width=Inches(2.65))\n",
    "                \n",
    "                p = document.add_paragraph()\n",
    "                r = p.add_run()\n",
    "\n",
    "                r.add_picture(os.path.join(path1, conf_files[1]), width=Inches(2.65))\n",
    "                r.add_picture(os.path.join(path2, conf_files[1]), width=Inches(2.65))\n",
    "                \n",
    "                document.add_page_break()\n",
    "                \n",
    "                p = document.add_paragraph()\n",
    "                r = p.add_run()\n",
    "\n",
    "                r.add_picture(os.path.join(path1, hist[0]), height=Inches(8.5))\n",
    "                \n",
    "                document.add_page_break()\n",
    "                p = document.add_paragraph()\n",
    "                r = p.add_run()\n",
    "                \n",
    "                r.add_picture(os.path.join(path2, hist[0]), height=Inches(8.5))\n",
    "                \n",
    "                document.add_page_break()\n",
    "                \n",
    "                p = document.add_paragraph()\n",
    "                r = p.add_run()\n",
    "\n",
    "                r.add_picture(os.path.join(path1, training_metrics_files[0]), width=Inches(2.65), height=Inches(2))\n",
    "                r.add_picture(os.path.join(path1, training_metrics_files[1]), width=Inches(2.65), height=Inches(2))\n",
    "                \n",
    "                p = document.add_paragraph()\n",
    "                r = p.add_run()\n",
    "\n",
    "                r.add_picture(os.path.join(path2, training_metrics_files[0]), width=Inches(2.65), height=Inches(2))\n",
    "                r.add_picture(os.path.join(path2, training_metrics_files[1]), width=Inches(2.65), height=Inches(2))\n",
    "            document.add_page_break()\n",
    "    document.save(f'{m_len}_evaluations.docx')"
   ]
  },
  {
   "cell_type": "code",
   "execution_count": 95,
   "metadata": {},
   "outputs": [],
   "source": [
    "dr = meas_dirs[0]\n",
    "path = meas_paths[0]\n",
    "model = models[0]"
   ]
  },
  {
   "cell_type": "code",
   "execution_count": 61,
   "metadata": {},
   "outputs": [
    {
     "data": {
      "text/plain": [
       "['mdamb231-mcf7-lclc', 'breastcancer-lclc']"
      ]
     },
     "execution_count": 61,
     "metadata": {},
     "output_type": "execute_result"
    }
   ],
   "source": [
    "dr"
   ]
  },
  {
   "cell_type": "code",
   "execution_count": 98,
   "metadata": {},
   "outputs": [],
   "source": [
    "document  = Document()\n",
    "\n",
    "\n",
    "if type(dr) == str:\n",
    "    path = os.path.join(result_path, dr, model, 'fibronectin_full_itr_0')\n",
    "    p = document.add_paragraph()\n",
    "    r = p.add_run()\n",
    "    r.add_text(f\"Dataset: {dr} \")\n",
    "    r.add_break()\n",
    "    r.add_text(f\"Model: {model} \")\n",
    "    \n",
    "    p = document.add_paragraph()\n",
    "    r = p.add_run()\n",
    "\n",
    "    r.add_picture(os.path.join(path, training_metrics_files[0]), width=Inches(2.65), height=Inches(2))\n",
    "    r.add_picture(os.path.join(path, training_metrics_files[1]), width=Inches(2.65), height=Inches(2))\n",
    "\n",
    "    p = document.add_paragraph()\n",
    "    r = p.add_run()\n",
    "\n",
    "    r.add_picture(os.path.join(path, conf_files[0]), height=Inches(3))\n",
    "    r.add_picture(os.path.join(path, conf_files[1]), height=Inches(3))\n",
    "\n",
    "    p = document.add_paragraph()\n",
    "    r = p.add_run()\n",
    "\n",
    "    r.add_picture(os.path.join(path, hist[0]), width=Inches(5))\n",
    "else:\n",
    "    path1 = os.path.join(result_path, dr[0], model, 'fibronectin_full_itr_0')\n",
    "    path2 = os.path.join(result_path, dr[1], model, 'fibronectin_full_itr_0')\n",
    "    p = document.add_paragraph()\n",
    "    r = p.add_run()\n",
    "    r.add_text(f\"Dataset: {', '.join(dr)} \")\n",
    "    r.add_break()\n",
    "    r.add_text(f\"Model: {model} \")\n",
    "    \n",
    "    p = document.add_paragraph()\n",
    "    r = p.add_run()\n",
    "\n",
    "    r.add_picture(os.path.join(path1, conf_files[0]), width=Inches(2.65))\n",
    "    r.add_picture(os.path.join(path2, conf_files[0]), width=Inches(2.65))\n",
    "    \n",
    "    p = document.add_paragraph()\n",
    "    r = p.add_run()\n",
    "\n",
    "    r.add_picture(os.path.join(path1, conf_files[1]), width=Inches(2.65))\n",
    "    r.add_picture(os.path.join(path2, conf_files[1]), width=Inches(2.65))\n",
    "    \n",
    "    p = document.add_paragraph()\n",
    "    r = p.add_run()\n",
    "\n",
    "    r.add_picture(os.path.join(path1, hist[0]), width=Inches(2.65))\n",
    "    r.add_picture(os.path.join(path2, hist[0]), width=Inches(2.65))\n",
    "    \n",
    "    p = document.add_paragraph()\n",
    "    r = p.add_run()\n",
    "\n",
    "    r.add_picture(os.path.join(path1, training_metrics_files[0]), width=Inches(2.65), height=Inches(2))\n",
    "    r.add_picture(os.path.join(path1, training_metrics_files[1]), width=Inches(2.65), height=Inches(2))\n",
    "    \n",
    "    p = document.add_paragraph()\n",
    "    r = p.add_run()\n",
    "\n",
    "    r.add_picture(os.path.join(path2, training_metrics_files[0]), width=Inches(2.65), height=Inches(2))\n",
    "    r.add_picture(os.path.join(path2, training_metrics_files[1]), width=Inches(2.65), height=Inches(2))\n",
    "\n",
    "\n",
    "document.save('evaluations.docx')"
   ]
  },
  {
   "cell_type": "code",
   "execution_count": null,
   "metadata": {},
   "outputs": [],
   "source": []
  }
 ],
 "metadata": {
  "kernelspec": {
   "display_name": "nanobio",
   "language": "python",
   "name": "python3"
  },
  "language_info": {
   "codemirror_mode": {
    "name": "ipython",
    "version": 3
   },
   "file_extension": ".py",
   "mimetype": "text/x-python",
   "name": "python",
   "nbconvert_exporter": "python",
   "pygments_lexer": "ipython3",
   "version": "3.10.6"
  },
  "orig_nbformat": 4
 },
 "nbformat": 4,
 "nbformat_minor": 2
}
