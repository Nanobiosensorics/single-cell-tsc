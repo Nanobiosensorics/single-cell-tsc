{
 "cells": [
  {
   "cell_type": "code",
   "execution_count": null,
   "metadata": {},
   "outputs": [],
   "source": [
    "import os\n",
    "from evaluation.load import get_dictionary, get_test, get_colors, get_data\n",
    "from evaluation.plots import *\n",
    "import subprocess\n",
    "from utils.utils import viz_cam"
   ]
  },
  {
   "cell_type": "code",
   "execution_count": null,
   "metadata": {},
   "outputs": [],
   "source": [
    "def run(data_path, result_path, color_path):\n",
    "    print(data_path, result_path, color_path)\n",
    "    result_paths = [ { 'name': name, 'path': os.path.join(result_path, name)} \n",
    "                    for name in os.listdir(result_path) if os.path.isdir(os.path.join(result_path, name))]\n",
    "    experiments = [ {'name': result['name'],'path': result['path'], \n",
    "                     'experiments': sorted([os.path.join(result['path'], name) \n",
    "                                            for name in os.listdir(result['path']) if os.path.isdir(os.path.join(result['path'], name))])} for result in result_paths]\n",
    "\n",
    "    labels, label_ids = get_dictionary(data_path)\n",
    "    x_data, y_data, data_labels = get_data(data_path, labels)\n",
    "    x_test, y_test, test_labels = get_test(data_path, labels)\n",
    "    cmap, names = get_colors(color_path, labels)\n",
    "    \n",
    "    print(\"Generating average plot\")\n",
    "    generate_mean_plot(os.path.join(result_path, 'signal-means.png'), x_data, y_data, label_ids, cmap, names)\n",
    "\n",
    "    print(\"Generating loss-accuracy plots\")\n",
    "    for experiment in experiments:\n",
    "        generate_loss_acc_plot(os.path.join(experiment['path'], experiment['name']+'-tr-tst-metrics.png'), experiment)\n",
    "\n",
    "    print(\"Generating total train-test metrics plot\")\n",
    "    generate_tr_tst_plot(os.path.join(result_path, 'tr-tst-metrics.png'), experiments)\n",
    "\n",
    "    print(\"Generating test prediction types plots\")\n",
    "    for experiment in experiments:\n",
    "        for exp in experiment['experiments']:\n",
    "            generate_tst_pred_plot(exp, x_test, y_test, labels, cmap, names)\n",
    "\n",
    "    print(\"Generating test prediction plots\")\n",
    "    for experiment in experiments:\n",
    "        for exp in experiment['experiments']:\n",
    "            generate_preds_plot(exp, x_test, y_test, labels, names)\n",
    "\n",
    "    print(\"Generating test histogram plots\")\n",
    "    generate_test_hist_plot(os.path.join(result_path, 'tst-hist.png'), x_test, y_test, labels, label_ids, cmap, names)\n",
    "\n",
    "    print(\"Generating test types histogram plots\")\n",
    "    for experiment in experiments:\n",
    "        for exp in experiment['experiments']:\n",
    "            generate_test_type_hist_plot(exp, x_test, y_test, labels, label_ids, cmap, names)\n",
    "\n",
    "    print(\"Generating confusion matrices\")\n",
    "    for experiment in experiments:\n",
    "        for exp in experiment['experiments']:\n",
    "            generate_conf_matrix(exp, test_labels, labels, names)\n",
    "\n",
    "    print(\"Generating confusion graphs\")\n",
    "    for experiment in experiments:\n",
    "        for exp in experiment['experiments']:\n",
    "            generate_conf_graph(exp, test_labels, labels, label_ids, cmap, names)\n",
    "\n",
    "\n",
    "    for experiment in experiments:\n",
    "        for exp in experiment['experiments']:\n",
    "            if(any(classifier in exp for classifier in ['fcn', 'resnet', 'inception'])):\n",
    "                viz_cam(data_path, exp, names)"
   ]
  },
  {
   "cell_type": "code",
   "execution_count": null,
   "metadata": {},
   "outputs": [],
   "source": []
  },
  {
   "cell_type": "code",
   "execution_count": null,
   "metadata": {},
   "outputs": [],
   "source": [
    "COLOR_PATH = '../cell_data/data/1d-class-datasets/interpolated-3rd-run/2hrs/'\n",
    "# DATA_PATH = '../cell_data/data/1d-class-datasets/mdamb231-mcf7-lclc/fibronectin_full/'\n",
    "# RESULT_PATH = './results/mdamb231-mcf7-lclc/'"
   ]
  },
  {
   "cell_type": "code",
   "execution_count": null,
   "metadata": {},
   "outputs": [],
   "source": [
    "data_paths = [\n",
    "    '../cell_data/data/1d-class-datasets/hela-mdamb231-mcf7-lclc/fibronectin_full/',\n",
    "    '../cell_data/data/1d-class-datasets/mdamb231-mcf7-lclc/fibronectin_full/',\n",
    "    '../cell_data/data/1d-class-datasets/mdamb231-mcf7/fibronectin_full/',\n",
    "    '../cell_data/data/1d-class-datasets/preo-hela-lclc/fibronectin_full/',\n",
    "    '../cell_data/data/1d-class-datasets/preo-hela-mdamb231-mcf7-lclc/fibronectin_full/',\n",
    "]\n",
    "result_paths = [\n",
    "    './results/3rd_run/hela-mdamb231-mcf7-lclc/',\n",
    "    './results/mdamb231-mcf7-lclc/',\n",
    "    './results/mdamb231-mcf7/',\n",
    "    './results/preo-hela-lclc/',\n",
    "    './results/preo-hela-mdamb231-mcf7-lclc/',\n",
    "]"
   ]
  },
  {
   "cell_type": "code",
   "execution_count": null,
   "metadata": {},
   "outputs": [],
   "source": [
    "# for d_path, r_path in zip(data_paths, result_paths):\n",
    "i = 0\n",
    "d_path = '../cell_data/data/1d-class-datasets/interpolated-3rd-run/2hrs/preo-hela-mdamb231-mcf7-lclc/sampled/train-test/'\n",
    "r_path = './results/8th_run/2hrs/preo-hela-mdamb231-mcf7-lclc/'\n",
    "run(d_path, r_path, COLOR_PATH)"
   ]
  },
  {
   "cell_type": "code",
   "execution_count": null,
   "metadata": {},
   "outputs": [],
   "source": []
  }
 ],
 "metadata": {
  "kernelspec": {
   "display_name": "Python 3 (ipykernel)",
   "language": "python",
   "name": "python3"
  },
  "language_info": {
   "codemirror_mode": {
    "name": "ipython",
    "version": 3
   },
   "file_extension": ".py",
   "mimetype": "text/x-python",
   "name": "python",
   "nbconvert_exporter": "python",
   "pygments_lexer": "ipython3",
   "version": "3.11.3"
  },
  "vscode": {
   "interpreter": {
    "hash": "2fd3bbdfa923658c6d5e5671aecb15a5f4bacb63005c242ea558ac2164f2eb45"
   }
  }
 },
 "nbformat": 4,
 "nbformat_minor": 2
}
