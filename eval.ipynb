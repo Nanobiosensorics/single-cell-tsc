{
 "cells": [
  {
   "cell_type": "code",
   "execution_count": 2,
   "metadata": {},
   "outputs": [],
   "source": [
    "import os\n",
    "import numpy as np\n",
    "import matplotlib as mpl\n",
    "import matplotlib.pyplot as plt\n",
    "import pandas as pd\n",
    "import time\n",
    "from sklearn.metrics import confusion_matrix\n",
    "from sklearn.metrics import ConfusionMatrixDisplay\n",
    "import seaborn as sns\n",
    "\n",
    "DATA_PATH = '../cell_data/data/lognorm-evaluation/eval/max/fibronectin_full/'\n",
    "RESULT_PATH = './results/2nd_run'"
   ]
  },
  {
   "cell_type": "code",
   "execution_count": 3,
   "metadata": {},
   "outputs": [
    {
     "data": {
      "text/plain": [
       "([{'name': 'cnn', 'path': './results/2nd_run/cnn'},\n",
       "  {'name': 'mlp', 'path': './results/2nd_run/mlp'},\n",
       "  {'name': 'encoder', 'path': './results/2nd_run/encoder'},\n",
       "  {'name': 'mcdcnn', 'path': './results/2nd_run/mcdcnn'},\n",
       "  {'name': 'fcn', 'path': './results/2nd_run/fcn'},\n",
       "  {'name': 'resnet', 'path': './results/2nd_run/resnet'},\n",
       "  {'name': 'inception', 'path': './results/2nd_run/inception'}],\n",
       " [{'name': 'cnn',\n",
       "   'path': './results/2nd_run/cnn',\n",
       "   'experiments': ['./results/2nd_run/cnn/fibronectin_full_itr_0',\n",
       "    './results/2nd_run/cnn/fibronectin_full_itr_1',\n",
       "    './results/2nd_run/cnn/fibronectin_full_itr_2',\n",
       "    './results/2nd_run/cnn/fibronectin_full_itr_3',\n",
       "    './results/2nd_run/cnn/fibronectin_full_itr_4']},\n",
       "  {'name': 'mlp',\n",
       "   'path': './results/2nd_run/mlp',\n",
       "   'experiments': ['./results/2nd_run/mlp/fibronectin_full_itr_0',\n",
       "    './results/2nd_run/mlp/fibronectin_full_itr_1',\n",
       "    './results/2nd_run/mlp/fibronectin_full_itr_2',\n",
       "    './results/2nd_run/mlp/fibronectin_full_itr_3',\n",
       "    './results/2nd_run/mlp/fibronectin_full_itr_4']},\n",
       "  {'name': 'encoder',\n",
       "   'path': './results/2nd_run/encoder',\n",
       "   'experiments': ['./results/2nd_run/encoder/fibronectin_full_itr_0',\n",
       "    './results/2nd_run/encoder/fibronectin_full_itr_1',\n",
       "    './results/2nd_run/encoder/fibronectin_full_itr_2',\n",
       "    './results/2nd_run/encoder/fibronectin_full_itr_3',\n",
       "    './results/2nd_run/encoder/fibronectin_full_itr_4']},\n",
       "  {'name': 'mcdcnn',\n",
       "   'path': './results/2nd_run/mcdcnn',\n",
       "   'experiments': ['./results/2nd_run/mcdcnn/fibronectin_full_itr_0',\n",
       "    './results/2nd_run/mcdcnn/fibronectin_full_itr_1',\n",
       "    './results/2nd_run/mcdcnn/fibronectin_full_itr_2',\n",
       "    './results/2nd_run/mcdcnn/fibronectin_full_itr_3',\n",
       "    './results/2nd_run/mcdcnn/fibronectin_full_itr_4']},\n",
       "  {'name': 'fcn',\n",
       "   'path': './results/2nd_run/fcn',\n",
       "   'experiments': ['./results/2nd_run/fcn/fibronectin_full_itr_0',\n",
       "    './results/2nd_run/fcn/fibronectin_full_itr_1',\n",
       "    './results/2nd_run/fcn/fibronectin_full_itr_2',\n",
       "    './results/2nd_run/fcn/fibronectin_full_itr_3',\n",
       "    './results/2nd_run/fcn/fibronectin_full_itr_4']},\n",
       "  {'name': 'resnet',\n",
       "   'path': './results/2nd_run/resnet',\n",
       "   'experiments': ['./results/2nd_run/resnet/fibronectin_full_itr_0',\n",
       "    './results/2nd_run/resnet/fibronectin_full_itr_1',\n",
       "    './results/2nd_run/resnet/fibronectin_full_itr_2',\n",
       "    './results/2nd_run/resnet/fibronectin_full_itr_3',\n",
       "    './results/2nd_run/resnet/fibronectin_full_itr_4']},\n",
       "  {'name': 'inception',\n",
       "   'path': './results/2nd_run/inception',\n",
       "   'experiments': ['./results/2nd_run/inception/fibronectin_full_itr_0',\n",
       "    './results/2nd_run/inception/fibronectin_full_itr_1',\n",
       "    './results/2nd_run/inception/fibronectin_full_itr_2',\n",
       "    './results/2nd_run/inception/fibronectin_full_itr_3',\n",
       "    './results/2nd_run/inception/fibronectin_full_itr_4']}])"
      ]
     },
     "execution_count": 3,
     "metadata": {},
     "output_type": "execute_result"
    }
   ],
   "source": [
    "result_paths = [ { 'name': name, 'path': os.path.join(RESULT_PATH, name)} \n",
    "                for name in os.listdir(RESULT_PATH) if os.path.isdir(os.path.join(RESULT_PATH, name))]\n",
    "# experiments = {result['path']: [os.path.join(result['path'], name) for name in os.listdir(result['path'])] for result in result_paths}\n",
    "experiments = [ {'name': result['name'],'path': result['path'], \n",
    "                 'experiments': sorted([os.path.join(result['path'], name) \n",
    "                                        for name in os.listdir(result['path']) if os.path.isdir(os.path.join(result['path'], name))])} for result in result_paths]\n",
    "result_paths, experiments"
   ]
  },
  {
   "cell_type": "code",
   "execution_count": null,
   "metadata": {},
   "outputs": [],
   "source": [
    "# obj = experiments[0]\n",
    "# fig, ax = plt.subplots(2,2, figsize=(15,8))\n",
    "# for m, experiment in enumerate(obj['experiments']):\n",
    "#     exp_hist = pd.read_csv(os.path.join(experiment, 'history.csv'))\n",
    "#     ax[0,0].plot(exp_hist.loss)\n",
    "#     ax[0,1].plot(exp_hist.val_loss)\n",
    "#     ax[1,0].plot(exp_hist.accuracy)\n",
    "#     ax[1,1].plot(exp_hist.val_accuracy)\n",
    "#     ax[1,0].set_ylim((0,1))\n",
    "#     ax[1,1].set_ylim((0,1))\n",
    "# plt.show()"
   ]
  },
  {
   "cell_type": "code",
   "execution_count": 6,
   "metadata": {},
   "outputs": [],
   "source": [
    "def log(func):\n",
    "    def wrap(*args, **kwargs):\n",
    "        start = time.time()\n",
    "        result = func(*args, **kwargs)\n",
    "        end = time.time()\n",
    "        \n",
    "        print('Generated', args[0], round(end-start, 2), 's')\n",
    "        return result\n",
    "    return wrap\n",
    "\n",
    "def get_max_acc_experiment(experiment):\n",
    "    mx_idx = 0\n",
    "    max_accs = 0\n",
    "    for n, exp in enumerate(experiment['experiments']):\n",
    "        exp_hist = pd.read_csv(os.path.join(exp, 'history.csv'))\n",
    "        mx = max(exp_hist.val_accuracy)\n",
    "        if max_accs < mx:\n",
    "            mx_idx = n\n",
    "            max_accs = mx\n",
    "    return mx_idx\n",
    "\n",
    "def get_predictions(experiment, labels):\n",
    "    preds = pd.read_csv(os.path.join(experiment, 'true-pred-values.csv'))\n",
    "    y_pred = np.array(preds.pred)\n",
    "    pred_labels = [labels[y_pred[n]] for n in range(y_pred.shape[0])]\n",
    "    return y_pred, pred_labels\n",
    "\n",
    "def get_test(path, labels):\n",
    "    x_test = np.load(os.path.join(path, 'X_test.npy'))\n",
    "    y_test = np.load(os.path.join(path, 'y_test.npy'))\n",
    "    test_labels = [labels[y_test[n]] for n in range(y_test.shape[0])]\n",
    "    return x_test, y_test, test_labels\n",
    "\n",
    "def get_dictionary(path):\n",
    "    dictionary = pd.read_csv(os.path.join(path, 'dictionary.csv'))\n",
    "    labels = list(dictionary.iloc[:, 0])\n",
    "    label_ids = list(dictionary.iloc[:, 1])\n",
    "    return labels, label_ids"
   ]
  },
  {
   "cell_type": "code",
   "execution_count": 7,
   "metadata": {},
   "outputs": [],
   "source": [
    "@log\n",
    "def generate_loss_acc_plot(filename, experiment):\n",
    "    fig, ax = plt.subplots(2,2, figsize=(15,8))\n",
    "    plt.suptitle(experiment['name'])\n",
    "    ax[0,0].set_title(\"Trn loss\")\n",
    "    ax[0,1].set_title(\"Val loss\")\n",
    "    ax[1,0].set_title(\"Trn Accuracy\")\n",
    "    ax[1,1].set_title(\"Val Accuracy\")\n",
    "    for n, exp in enumerate(experiment['experiments']):\n",
    "        exp_hist = pd.read_csv(os.path.join(exp, 'history.csv'))\n",
    "        ax[0,0].plot(exp_hist.loss, label=n)\n",
    "        ax[0,1].plot(exp_hist.val_loss, label=n)\n",
    "        ax[1,0].plot(exp_hist.accuracy, label=n)\n",
    "        ax[1,1].plot(exp_hist.val_accuracy, label=n)\n",
    "    ax[0,0].legend()\n",
    "    ax[0,1].legend()\n",
    "    ax[1,0].legend()\n",
    "    ax[1,1].legend()\n",
    "    ax[1,0].set_ylim((0,1))\n",
    "    ax[1,1].set_ylim((0,1))\n",
    "    plt.savefig(filename)\n",
    "    plt.close()\n",
    "    \n",
    "@log\n",
    "def generate_tr_tst_plot(filename, experiments):   \n",
    "    fig, ax = plt.subplots(1,2, figsize=(15,8))\n",
    "    ax[0].set_title(\"Trn Accuracy\")\n",
    "    ax[1].set_title(\"Val Accuracy\")\n",
    "    for exp in experiments:\n",
    "    #     if exp['name'] not in ['resnet', 'fcn']: \n",
    "        mx_idx = get_max_acc_experiment(exp)\n",
    "        exp_hist = pd.read_csv(os.path.join(exp['experiments'][mx_idx], 'history.csv'))\n",
    "        ax[0].plot(exp_hist.accuracy, label=exp['name'], alpha=.5)\n",
    "        ax[1].plot(exp_hist.val_accuracy, label=exp['name'], alpha=.5)\n",
    "    ax[0].legend()\n",
    "    ax[1].legend()\n",
    "    ax[0].set_xlim((0, 400))\n",
    "    ax[1].set_xlim((0, 400))\n",
    "    plt.savefig(filename)\n",
    "    plt.close()\n",
    "\n",
    "@log\n",
    "def generate_tst_pred_plot(experiment, x_test, y_test, labels):\n",
    "    label_count = len(labels)\n",
    "    cmap = mpl.cm.get_cmap('Set1', label_count)\n",
    "    y_pred, _ = get_predictions(experiment, labels)\n",
    "    fig, ax = plt.subplots(5,1, figsize=(15,50))\n",
    "    fig.suptitle(\"Test predictions\")\n",
    "    for i in range(label_count):\n",
    "        for j in range(label_count):\n",
    "            ax[i].plot([], c=cmap(j), label=labels[j])\n",
    "        ax[i].legend()\n",
    "        ax[i].set_title(''.join([labels[i], '-predictions']))\n",
    "\n",
    "    for n in range(x_test.shape[0]):\n",
    "        ax[y_test[n]].plot(x_test[n,:], c=cmap(y_pred[n]))\n",
    "    plt.savefig(os.path.join(experiment, 'tst-predictions-types.png'))\n",
    "    plt.close()\n",
    "\n",
    "@log\n",
    "def generate_preds_plot(experiment, x_test, y_test, labels):\n",
    "    label_count = len(labels)\n",
    "    cmap = ['r', 'g']\n",
    "    y_pred, _ = get_predictions(experiment, labels)\n",
    "    fig, ax = plt.subplots(5,1, figsize=(15,50))\n",
    "    for i in range(label_count):\n",
    "        for n, label in enumerate(['false', 'true']):\n",
    "            ax[i].plot([], c=cmap[n], label=label)\n",
    "        ax[i].legend()\n",
    "        ax[i].set_title(''.join([labels[i], '_predictions']))\n",
    "            \n",
    "    for m in range(x_test.shape[0]):\n",
    "        ax[y_test[n]].plot(x_test[m, :], c=cmap[int(y_pred[m] == y_test[m])])\n",
    "    plt.savefig(os.path.join(experiment, 'tst-predictions.png'))\n",
    "    plt.close()\n",
    "\n",
    "@log\n",
    "def generate_test_hist_plot(filename, x_test, y_test, labels, label_ids):\n",
    "    label_count = len(labels)\n",
    "    x_test_lst = x_test[:, -1]\n",
    "    separated_x_test = [ x_test[np.where(y_test == n)] for n in label_ids]\n",
    "    bins_type = []\n",
    "    for x_test_type in separated_x_test:\n",
    "        bins, bin_edges = np.histogram(x_test_type[:, -1], bins=50, range=(min(x_test_lst), max(x_test_lst)),density=False)\n",
    "        bins_type.append(bins)\n",
    "    bins, bin_edges = np.histogram(x_test_lst, bins=50, range=(min(x_test_lst), max(x_test_lst)),density=False)\n",
    "    cmap = mpl.cm.get_cmap('Set1', label_count)\n",
    "    plt.figure(figsize=(12,8))\n",
    "    for m in label_ids:\n",
    "        plt.bar(0, 0, width=0, color=cmap(m), label=labels[m])\n",
    "    for n, (l_edge, r_edge) in enumerate(zip(bin_edges[:-1], bin_edges[1:])):\n",
    "        bottom = 0\n",
    "        for m in label_ids:\n",
    "            plt.bar(l_edge, bins_type[m][n], width=(r_edge - l_edge), color=cmap(m), edgecolor='black', linewidth=.2, bottom=bottom)\n",
    "            bottom += bins_type[m][n]\n",
    "    plt.legend()\n",
    "    plt.savefig(filename)\n",
    "    plt.close()\n",
    "\n",
    "@log\n",
    "def generate_test_type_hist_plot(experiment, x_test, y_test, labels, label_ids):\n",
    "    label_count = len(labels)\n",
    "    x_test_lst = x_test[:, -1]\n",
    "    cmap = mpl.cm.get_cmap('Set1', label_count)\n",
    "    y_pred, _ = get_predictions(experiment, labels)\n",
    "    fig, ax = plt.subplots(label_count, 1, figsize=(12, label_count * 8))\n",
    "    fig.suptitle(\"Test predictions histogram\")\n",
    "    for i, (name, tag) in enumerate(zip(labels, label_ids)):\n",
    "        label_ids_l = label_ids[i:] + label_ids[:i]\n",
    "        label_slice = np.where(y_test == tag)\n",
    "        x_test_type = x_test[label_slice]\n",
    "        x_test_type_lst = x_test_type[:, -1]\n",
    "        # y_test_type = y_test[label_slice]\n",
    "        y_pred_type = y_pred[label_slice]\n",
    "        bins_type = []\n",
    "        for n in label_ids:\n",
    "            bins, bin_edges = np.histogram(x_test_type_lst[np.where(y_pred_type == n)], bins=50, range=(min(x_test_lst), max(x_test_lst)),density=False)\n",
    "            bins_type.append(bins)\n",
    "        bins, bin_edges = np.histogram(x_test_type_lst, bins=50, range=(min(x_test_lst), max(x_test_lst)),density=False)\n",
    "        ax[tag].set_title(' '.join([name, 'predictions']))\n",
    "        for m in label_ids:\n",
    "            container = ax[tag].bar(0, 0, width=0, color=cmap(m), label=labels[m])\n",
    "        for n, (l_edge, r_edge) in enumerate(zip(bin_edges[:-1], bin_edges[1:])):\n",
    "            bottom = 0\n",
    "            for m in label_ids_l:\n",
    "                container = ax[tag].bar(l_edge, bins_type[m][n], width=(r_edge - l_edge), color=cmap(m), edgecolor='black', linewidth=.2, bottom=bottom)\n",
    "                bottom += bins_type[m][n]\n",
    "        ax[tag].legend()\n",
    "    plt.savefig(os.path.join(experiment, 'tst-types-hist.png'))\n",
    "    plt.close()"
   ]
  },
  {
   "cell_type": "code",
   "execution_count": null,
   "metadata": {},
   "outputs": [],
   "source": [
    "labels, label_ids = get_dictionary(DATA_PATH)\n",
    "x_test, y_test, test_labels = get_test(DATA_PATH, labels)\n",
    "# successfull_pred = y_test == y_pred\n",
    "\n",
    "print(\"Generating loss-accuracy plots\")\n",
    "for experiment in experiments:\n",
    "    generate_loss_acc_plot(os.path.join(experiment['path'], experiment['name']+'-tr-tst-metrics.png'), experiment)\n",
    "\n",
    "print(\"Generating total train-test metrics plot\")\n",
    "generate_tr_tst_plot(os.path.join(RESULT_PATH, 'tr-tst-metrics.png'), experiments)\n",
    "\n",
    "print(\"Generating test prediction types plots\")\n",
    "for experiment in experiments:\n",
    "    for exp in experiment['experiments']:\n",
    "        generate_tst_pred_plot(exp, x_test, y_test, labels)\n",
    "\n",
    "print(\"Generating test prediction plots\")\n",
    "for experiment in experiments:\n",
    "    for exp in experiment['experiments']:\n",
    "        generate_preds_plot(exp, x_test, y_test, labels)\n",
    "\n",
    "print(\"Generating test histogram plots\")\n",
    "generate_test_hist_plot(os.path.join(RESULT_PATH, 'tst-hist.png'), x_test, y_test, labels, label_ids)\n",
    "\n",
    "print(\"Generating test types histogram plots\")\n",
    "for experiment in experiments:\n",
    "    for exp in experiment['experiments']:\n",
    "        generate_test_type_hist_plot(exp, x_test, y_test, labels, label_ids)"
   ]
  },
  {
   "cell_type": "code",
   "execution_count": 123,
   "metadata": {},
   "outputs": [],
   "source": [
    "from collections import defaultdict\n",
    "import networkx as nx\n",
    "import plotly.graph_objects as go\n",
    "from typing import Any, List, Dict, Tuple, Union, Callable\n",
    "\n",
    "Vertex = Any\n",
    "Edge = Tuple[Vertex, Vertex]\n",
    "Num = Union[int, float]\n",
    "\n",
    "\n",
    "class GraphVisualization:\n",
    "    def __init__(\n",
    "        self,\n",
    "        G: nx.Graph,\n",
    "        pos: Dict[Vertex, Union[Tuple[Num, Num], Tuple[Num, Num, Num]]],\n",
    "        node_text: Union[Dict[Vertex, str], Callable] = None,\n",
    "        node_text_position: Union[Dict[Vertex, str], Callable, str] = None,\n",
    "        node_text_font_color: Union[Dict[Vertex, str], Callable, str] = None,\n",
    "        node_text_font_family: Union[Dict[Vertex, str], Callable, str] = None,\n",
    "        node_text_font_size: Union[Dict[Vertex, Num], Callable, str] = None,\n",
    "        node_size: Union[Dict[Vertex, Num], Callable, Num] = None,\n",
    "        node_color: Union[Dict[Vertex, Union[str, Num]], Callable, Union[str, Num]] = None,\n",
    "        node_border_width: Union[Dict[Vertex, Num], Callable, Num] = None,\n",
    "        node_border_color: Union[Dict[Vertex, str], Callable, str] = None,\n",
    "        node_opacity: Num = None,\n",
    "        edge_width: Union[Dict[Edge, Num], Callable, Num] = None,\n",
    "        edge_color: Union[Dict[Edge, str], Callable, str] = None,\n",
    "        edge_opacity: Num = None,\n",
    "    ):\n",
    "        # check dimensions\n",
    "        if all(len(pos.get(v, [])) == 2 for v in G):\n",
    "            self.is_3d = False\n",
    "        elif all(len(pos.get(v, [])) == 3 for v in G):\n",
    "            self.is_3d = True\n",
    "        else:\n",
    "            raise ValueError\n",
    "\n",
    "        # default settings\n",
    "        self.default_settings = dict(\n",
    "            node_text=str,  # show node label\n",
    "            node_text_position=\"middle center\",\n",
    "            node_text_font_color='#000000',\n",
    "            node_text_font_family='Arial',\n",
    "            node_text_font_size=14,\n",
    "            node_size=10 if self.is_3d else 18,\n",
    "            node_color='#fcfcfc',\n",
    "            node_border_width=2,\n",
    "            node_border_color='#333333',\n",
    "            node_opacity=0.8,\n",
    "            edge_width=4 if self.is_3d else 2,\n",
    "            edge_color='#808080',\n",
    "            edge_opacity=0.8,\n",
    "        )\n",
    "\n",
    "        # save settings\n",
    "        self.G = G\n",
    "        self.pos = pos\n",
    "        self.node_text = node_text\n",
    "        self.node_text_position = node_text_position\n",
    "        self.node_text_font_color = node_text_font_color\n",
    "        self.node_text_font_family = node_text_font_family\n",
    "        self.node_text_font_size = node_text_font_size\n",
    "        self.node_size = node_size\n",
    "        self.node_color = node_color\n",
    "        self.node_border_width = node_border_width\n",
    "        self.node_border_color = node_border_color\n",
    "        self.node_opacity = node_opacity\n",
    "        self.edge_width = edge_width\n",
    "        self.edge_color = edge_color\n",
    "        self.edge_opacity = edge_opacity\n",
    "\n",
    "    def _get_edge_traces(self) -> List[Union[go.Scatter, go.Scatter3d]]:\n",
    "        # group all edges by (color, width)\n",
    "        groups = defaultdict(list)\n",
    "\n",
    "        for edge in self.G.edges():\n",
    "            color = self._get_setting('edge_color', edge)\n",
    "            width = self._get_setting('edge_width', edge)\n",
    "            groups[(color, width)] += [edge]\n",
    "\n",
    "        # process each group\n",
    "        traces = []\n",
    "        for (color, width), edges in groups.items():\n",
    "            x, y, z = [], [], []\n",
    "            for v, u in edges:\n",
    "                x += [self.pos[v][0], self.pos[u][0], None]\n",
    "                y += [self.pos[v][1], self.pos[u][1], None]\n",
    "                if self.is_3d:\n",
    "                    z += [self.pos[v][2], self.pos[u][2], None]\n",
    "\n",
    "            params = dict(\n",
    "                x=x,\n",
    "                y=y,\n",
    "                mode='lines',\n",
    "                hoverinfo='none',\n",
    "                line=dict(color=color, width=width),\n",
    "                opacity=self._get_setting('edge_opacity'),\n",
    "            )\n",
    "\n",
    "            traces += [go.Scatter3d(z=z, **params) if self.is_3d else go.Scatter(**params)]\n",
    "\n",
    "        return traces\n",
    "\n",
    "    def _get_node_trace(self, showlabel, colorscale, showscale, colorbar_title, reversescale) -> Union[go.Scatter, go.Scatter3d]:\n",
    "        x, y, z = [], [], []\n",
    "        for v in self.G.nodes():\n",
    "            x += [self.pos[v][0]]\n",
    "            y += [self.pos[v][1]]\n",
    "            if self.is_3d:\n",
    "                z += [self.pos[v][2]]\n",
    "\n",
    "        params = dict(\n",
    "            x=x,\n",
    "            y=y,\n",
    "            mode='markers' + ('+text' if showlabel else ''),\n",
    "            hoverinfo='text',\n",
    "            marker=dict(\n",
    "                showscale=showscale,\n",
    "                colorscale=colorscale,\n",
    "                reversescale=reversescale,\n",
    "                color=self._get_setting('node_color'),\n",
    "                size=self._get_setting('node_size'),\n",
    "                line_width=self._get_setting('node_border_width'),\n",
    "                line_color=self._get_setting('node_border_color'),\n",
    "                colorbar=dict(\n",
    "                    thickness=15,\n",
    "                    title=colorbar_title,\n",
    "                    xanchor='left',\n",
    "                    titleside='right'\n",
    "                ),\n",
    "            ),\n",
    "            text=self._get_setting('node_text'),\n",
    "            textfont=dict(\n",
    "                color=self._get_setting('node_text_font_color'),\n",
    "                family=self._get_setting('node_text_font_family'),\n",
    "                size=self._get_setting('node_text_font_size')\n",
    "            ),\n",
    "            textposition=self._get_setting('node_text_position'),\n",
    "            opacity=self._get_setting('node_opacity'),\n",
    "        )\n",
    "\n",
    "        trace = go.Scatter3d(z=z, **params) if self.is_3d else go.Scatter(**params)\n",
    "        return trace\n",
    "\n",
    "    def _get_setting(self, setting_name, edge=None):\n",
    "        default_setting = self.default_settings.get(setting_name)\n",
    "        def_func = default_setting if callable(default_setting) else lambda x: default_setting\n",
    "        setting = self.__dict__.get(setting_name)\n",
    "\n",
    "        if edge is None:  # vertex-specific\n",
    "            if setting is None:  # default is used\n",
    "                if callable(default_setting):  # default is a function\n",
    "                    return [def_func(v) for v in self.G.nodes()]\n",
    "                else:  # default is a constant\n",
    "                    return default_setting\n",
    "            elif callable(setting):  # setting is a function\n",
    "                return [setting(v) for v in self.G.nodes()]\n",
    "            elif isinstance(setting, dict):  # setting is a dict\n",
    "                return [setting.get(v, def_func(v)) for v in self.G.nodes()]\n",
    "            else:  # setting is a constant\n",
    "                return setting\n",
    "        else:  # edge-specific\n",
    "            if setting is None:  # default is used\n",
    "                return def_func(edge)\n",
    "            elif callable(setting):  # setting is a function\n",
    "                return setting(edge)\n",
    "            elif isinstance(setting, dict):  # setting is a dict\n",
    "                return setting.get(edge, def_func(edge))\n",
    "            else:  # setting is a constant\n",
    "                return setting\n",
    "\n",
    "    def create_figure(\n",
    "        self,\n",
    "        showlabel=True,\n",
    "        colorscale='YlGnBu',\n",
    "        showscale=False,\n",
    "        colorbar_title='',\n",
    "        reversescale=False,\n",
    "        **params\n",
    "    ) -> go.Figure:\n",
    "        axis_settings = dict(\n",
    "            autorange=True,\n",
    "            showgrid=False,\n",
    "            zeroline=False,\n",
    "            showline=False,\n",
    "            visible=False,\n",
    "            ticks='',\n",
    "            showticklabels=False,\n",
    "        )\n",
    "        scene = dict(\n",
    "            xaxis=axis_settings,\n",
    "            yaxis=axis_settings,\n",
    "            zaxis=axis_settings,\n",
    "        )\n",
    "\n",
    "        layout_params = dict(\n",
    "            paper_bgcolor='rgba(255,255,255,255)',  # white\n",
    "            plot_bgcolor='rgba(0,0,0,0)',  # transparent\n",
    "            autosize=False,\n",
    "            height=600,\n",
    "            width=600,\n",
    "            title='',\n",
    "            titlefont_size=16,\n",
    "            showlegend=False,\n",
    "            hovermode='closest',\n",
    "            margin=dict(b=5, l=0, r=0, t=20),\n",
    "            annotations=[],\n",
    "            xaxis=axis_settings,\n",
    "            yaxis=axis_settings,\n",
    "            scene=scene,\n",
    "        )\n",
    "\n",
    "        # override with the given parameters\n",
    "        layout_params.update(params)\n",
    "\n",
    "        # create figure\n",
    "        fig = go.Figure(layout=go.Layout(**layout_params))\n",
    "        fig.add_traces(self._get_edge_traces())\n",
    "        fig.add_trace(self._get_node_trace(showlabel, colorscale, showscale, colorbar_title, reversescale))\n",
    "        return fig\n"
   ]
  },
  {
   "cell_type": "code",
   "execution_count": 124,
   "metadata": {},
   "outputs": [
    {
     "data": {
      "image/png": "[encoded data removed]",
      "text/plain": [
       "<Figure size 640x480 with 2 Axes>"
      ]
     },
     "metadata": {},
     "output_type": "display_data"
    }
   ],
   "source": [
    "exp = experiments[0]['experiments'][0]\n",
    "labels, label_ids = get_dictionary(DATA_PATH)\n",
    "x_test, y_test, test_labels = get_test(DATA_PATH, labels)\n",
    "y_pred, pred_labels = get_predictions(exp, labels)\n",
    "cm = confusion_matrix(test_labels, pred_labels, labels=labels, normalize='true')\n",
    "disp = ConfusionMatrixDisplay(cm, display_labels=labels)\n",
    "disp.plot(cmap=mpl.cm.Blues)\n",
    "plt.show()"
   ]
  },
  {
   "cell_type": "code",
   "execution_count": 144,
   "metadata": {},
   "outputs": [
    {
     "name": "stdout",
     "output_type": "stream",
     "text": [
      "{(0, 1): 3.0399274047186933, (0, 2): 1.528555431131019, (0, 3): 4.6085417030949465, (0, 4): 3.264006791171477, (1, 1): 29.597701149425287, (1, 2): 2.3251406211787726, (1, 3): 2.7747546492534467, (1, 4): 9.937893956247683, (2, 1): 2.3251406211787726, (2, 2): 16.595744680851062, (2, 3): 18.312009613345584, (2, 4): 3.912148249828415, (3, 1): 2.7747546492534467, (3, 2): 18.312009613345584, (3, 3): 40.033222591362126, (3, 4): 5.903975993998499}\n",
      "{(0, 1): '#463480', (0, 2): '#481c6e', (0, 3): '#3e4c8a', (0, 4): '#453882', (1, 1): '#fde725', (1, 2): '#482979', (1, 3): '#46307e', (1, 4): '#21908d', (2, 1): '#482979', (2, 2): '#8ed645', (2, 3): '#c8e020', (2, 4): '#414287', (3, 1): '#46307e', (3, 2): '#c8e020', (3, 3): '#fde725', (3, 4): '#355e8d'}\n"
     ]
    }
   ],
   "source": [
    "label_count = len(labels)\n",
    "cmap = mpl.cm.get_cmap('Set1', label_count)\n",
    "edge_cmap = mpl.cm.get_cmap('viridis')\n",
    "norm = mpl.colors.Normalize(0, 20)\n",
    "G = nx.circulant_graph(len(labels), [0])\n",
    "\n",
    "# set 2D positions\n",
    "import math\n",
    "\n",
    "node_pos = {}\n",
    "node_size = []\n",
    "node_color = []\n",
    "edge_widths = {}\n",
    "edge_colors = {}\n",
    "\n",
    "\n",
    "for i in range(len(labels)):\n",
    "    theta = 2 * math.pi * i / 5 + math.pi / 2\n",
    "    node_pos[i] = (2 * math.cos(theta), 2 * math.sin(theta))  # outer vertices\n",
    "    node_color.append(mpl.colors.rgb2hex(cmap(i)))\n",
    "    \n",
    "for i in label_ids:\n",
    "    node_size.append(cm[i,i] * 100)\n",
    "\n",
    "for i in label_ids[:-1]:\n",
    "    for j in label_ids[1:]:\n",
    "        G.add_edge(i,j)\n",
    "        wdth = (cm[i, j] * .5 + cm[j, i] * .5) * 50\n",
    "        edge_widths[(i,j)] = wdth\n",
    "        edge_colors[(i,j)] = mpl.colors.rgb2hex(edge_cmap(norm(wdth)))\n",
    "        \n",
    "\n",
    "# for v in G:\n",
    "#     print('%d: (%6s, %6s)' % (v, '%.3f' % node_pos[v][0], '%.3f' % node_pos[v][1]))\n",
    "print(edge_widths)\n",
    "print(edge_colors)"
   ]
  },
  {
   "cell_type": "code",
   "execution_count": 147,
   "metadata": {},
   "outputs": [
    {
     "data": {
      "application/vnd.plotly.v1+json": {
       "config": {
        "plotlyServerURL": "https://plot.ly"
       },
       "data": [
        {
         "hoverinfo": "none",
         "line": {
          "color": "#808080",
          "width": 2
         },
         "mode": "lines",
         "opacity": 1,
         "type": "scatter",
         "x": [
          1.2246467991473532e-16,
          1.2246467991473532e-16,
          null,
          1.9021130325903073,
          1.9021130325903073,
          null
         ],
         "y": [
          2,
          2,
          null,
          0.6180339887498943,
          0.6180339887498943,
          null
         ]
        },
        {
         "hoverinfo": "none",
         "line": {
          "color": "#463480",
          "width": 3.0399274047186933
         },
         "mode": "lines",
         "opacity": 1,
         "type": "scatter",
         "x": [
          1.2246467991473532e-16,
          -1.902113032590307,
          null
         ],
         "y": [
          2,
          0.618033988749895,
          null
         ]
        },
        {
         "hoverinfo": "none",
         "line": {
          "color": "#481c6e",
          "width": 1.528555431131019
         },
         "mode": "lines",
         "opacity": 1,
         "type": "scatter",
         "x": [
          1.2246467991473532e-16,
          -1.1755705045849465,
          null
         ],
         "y": [
          2,
          -1.6180339887498947,
          null
         ]
        },
        {
         "hoverinfo": "none",
         "line": {
          "color": "#3e4c8a",
          "width": 4.6085417030949465
         },
         "mode": "lines",
         "opacity": 1,
         "type": "scatter",
         "x": [
          1.2246467991473532e-16,
          1.1755705045849458,
          null
         ],
         "y": [
          2,
          -1.6180339887498951,
          null
         ]
        },
        {
         "hoverinfo": "none",
         "line": {
          "color": "#453882",
          "width": 3.264006791171477
         },
         "mode": "lines",
         "opacity": 1,
         "type": "scatter",
         "x": [
          1.2246467991473532e-16,
          1.9021130325903073,
          null
         ],
         "y": [
          2,
          0.6180339887498943,
          null
         ]
        },
        {
         "hoverinfo": "none",
         "line": {
          "color": "#fde725",
          "width": 29.597701149425287
         },
         "mode": "lines",
         "opacity": 1,
         "type": "scatter",
         "x": [
          -1.902113032590307,
          -1.902113032590307,
          null
         ],
         "y": [
          0.618033988749895,
          0.618033988749895,
          null
         ]
        },
        {
         "hoverinfo": "none",
         "line": {
          "color": "#482979",
          "width": 2.3251406211787726
         },
         "mode": "lines",
         "opacity": 1,
         "type": "scatter",
         "x": [
          -1.902113032590307,
          -1.1755705045849465,
          null
         ],
         "y": [
          0.618033988749895,
          -1.6180339887498947,
          null
         ]
        },
        {
         "hoverinfo": "none",
         "line": {
          "color": "#46307e",
          "width": 2.7747546492534467
         },
         "mode": "lines",
         "opacity": 1,
         "type": "scatter",
         "x": [
          -1.902113032590307,
          1.1755705045849458,
          null
         ],
         "y": [
          0.618033988749895,
          -1.6180339887498951,
          null
         ]
        },
        {
         "hoverinfo": "none",
         "line": {
          "color": "#21908d",
          "width": 9.937893956247683
         },
         "mode": "lines",
         "opacity": 1,
         "type": "scatter",
         "x": [
          -1.902113032590307,
          1.9021130325903073,
          null
         ],
         "y": [
          0.618033988749895,
          0.6180339887498943,
          null
         ]
        },
        {
         "hoverinfo": "none",
         "line": {
          "color": "#8ed645",
          "width": 16.595744680851062
         },
         "mode": "lines",
         "opacity": 1,
         "type": "scatter",
         "x": [
          -1.1755705045849465,
          -1.1755705045849465,
          null
         ],
         "y": [
          -1.6180339887498947,
          -1.6180339887498947,
          null
         ]
        },
        {
         "hoverinfo": "none",
         "line": {
          "color": "#c8e020",
          "width": 18.312009613345584
         },
         "mode": "lines",
         "opacity": 1,
         "type": "scatter",
         "x": [
          -1.1755705045849465,
          1.1755705045849458,
          null
         ],
         "y": [
          -1.6180339887498947,
          -1.6180339887498951,
          null
         ]
        },
        {
         "hoverinfo": "none",
         "line": {
          "color": "#414287",
          "width": 3.912148249828415
         },
         "mode": "lines",
         "opacity": 1,
         "type": "scatter",
         "x": [
          -1.1755705045849465,
          1.9021130325903073,
          null
         ],
         "y": [
          -1.6180339887498947,
          0.6180339887498943,
          null
         ]
        },
        {
         "hoverinfo": "none",
         "line": {
          "color": "#fde725",
          "width": 40.033222591362126
         },
         "mode": "lines",
         "opacity": 1,
         "type": "scatter",
         "x": [
          1.1755705045849458,
          1.1755705045849458,
          null
         ],
         "y": [
          -1.6180339887498951,
          -1.6180339887498951,
          null
         ]
        },
        {
         "hoverinfo": "none",
         "line": {
          "color": "#355e8d",
          "width": 5.903975993998499
         },
         "mode": "lines",
         "opacity": 1,
         "type": "scatter",
         "x": [
          1.1755705045849458,
          1.9021130325903073,
          null
         ],
         "y": [
          -1.6180339887498951,
          0.6180339887498943,
          null
         ]
        },
        {
         "hoverinfo": "text",
         "marker": {
          "color": [
           "#e41a1c",
           "#4daf4a",
           "#ff7f00",
           "#a65628",
           "#999999"
          ],
          "colorbar": {
           "thickness": 15,
           "title": {
            "side": "right",
            "text": ""
           },
           "xanchor": "left"
          },
          "colorscale": [
           [
            0,
            "rgb(255,255,217)"
           ],
           [
            0.125,
            "rgb(237,248,177)"
           ],
           [
            0.25,
            "rgb(199,233,180)"
           ],
           [
            0.375,
            "rgb(127,205,187)"
           ],
           [
            0.5,
            "rgb(65,182,196)"
           ],
           [
            0.625,
            "rgb(29,145,192)"
           ],
           [
            0.75,
            "rgb(34,94,168)"
           ],
           [
            0.875,
            "rgb(37,52,148)"
           ],
           [
            1,
            "rgb(8,29,88)"
           ]
          ],
          "line": {
           "color": "#333333",
           "width": 2
          },
          "reversescale": false,
          "showscale": false,
          "size": [
           64.47368421052632,
           59.195402298850574,
           33.191489361702125,
           80.06644518272425,
           40.64516129032258
          ]
         },
         "mode": "markers+text",
         "opacity": 1,
         "text": [
          "lclc",
          "hela",
          "mcf7",
          "mdamb231",
          "preo"
         ],
         "textfont": {
          "color": "#000000",
          "family": "Arial",
          "size": 14
         },
         "textposition": "top center",
         "type": "scatter",
         "x": [
          1.2246467991473532e-16,
          -1.902113032590307,
          -1.1755705045849465,
          1.1755705045849458,
          1.9021130325903073
         ],
         "y": [
          2,
          0.618033988749895,
          -1.6180339887498947,
          -1.6180339887498951,
          0.6180339887498943
         ]
        }
       ],
       "layout": {
        "autosize": false,
        "height": 600,
        "hovermode": "closest",
        "margin": {
         "b": 5,
         "l": 0,
         "r": 0,
         "t": 20
        },
        "paper_bgcolor": "rgba(255,255,255,255)",
        "plot_bgcolor": "rgba(0,0,0,0)",
        "scene": {
         "xaxis": {
          "autorange": true,
          "showgrid": false,
          "showline": false,
          "showticklabels": false,
          "ticks": "",
          "visible": false,
          "zeroline": false
         },
         "yaxis": {
          "autorange": true,
          "showgrid": false,
          "showline": false,
          "showticklabels": false,
          "ticks": "",
          "visible": false,
          "zeroline": false
         },
         "zaxis": {
          "autorange": true,
          "showgrid": false,
          "showline": false,
          "showticklabels": false,
          "ticks": "",
          "visible": false,
          "zeroline": false
         }
        },
        "showlegend": false,
        "template": {
         "data": {
          "bar": [
           {
            "error_x": {
             "color": "#2a3f5f"
            },
            "error_y": {
             "color": "#2a3f5f"
            },
            "marker": {
             "line": {
              "color": "#E5ECF6",
              "width": 0.5
             },
             "pattern": {
              "fillmode": "overlay",
              "size": 10,
              "solidity": 0.2
             }
            },
            "type": "bar"
           }
          ],
          "barpolar": [
           {
            "marker": {
             "line": {
              "color": "#E5ECF6",
              "width": 0.5
             },
             "pattern": {
              "fillmode": "overlay",
              "size": 10,
              "solidity": 0.2
             }
            },
            "type": "barpolar"
           }
          ],
          "carpet": [
           {
            "aaxis": {
             "endlinecolor": "#2a3f5f",
             "gridcolor": "white",
             "linecolor": "white",
             "minorgridcolor": "white",
             "startlinecolor": "#2a3f5f"
            },
            "baxis": {
             "endlinecolor": "#2a3f5f",
             "gridcolor": "white",
             "linecolor": "white",
             "minorgridcolor": "white",
             "startlinecolor": "#2a3f5f"
            },
            "type": "carpet"
           }
          ],
          "choropleth": [
           {
            "colorbar": {
             "outlinewidth": 0,
             "ticks": ""
            },
            "type": "choropleth"
           }
          ],
          "contour": [
           {
            "colorbar": {
             "outlinewidth": 0,
             "ticks": ""
            },
            "colorscale": [
             [
              0,
              "#0d0887"
             ],
             [
              0.1111111111111111,
              "#46039f"
             ],
             [
              0.2222222222222222,
              "#7201a8"
             ],
             [
              0.3333333333333333,
              "#9c179e"
             ],
             [
              0.4444444444444444,
              "#bd3786"
             ],
             [
              0.5555555555555556,
              "#d8576b"
             ],
             [
              0.6666666666666666,
              "#ed7953"
             ],
             [
              0.7777777777777778,
              "#fb9f3a"
             ],
             [
              0.8888888888888888,
              "#fdca26"
             ],
             [
              1,
              "#f0f921"
             ]
            ],
            "type": "contour"
           }
          ],
          "contourcarpet": [
           {
            "colorbar": {
             "outlinewidth": 0,
             "ticks": ""
            },
            "type": "contourcarpet"
           }
          ],
          "heatmap": [
           {
            "colorbar": {
             "outlinewidth": 0,
             "ticks": ""
            },
            "colorscale": [
             [
              0,
              "#0d0887"
             ],
             [
              0.1111111111111111,
              "#46039f"
             ],
             [
              0.2222222222222222,
              "#7201a8"
             ],
             [
              0.3333333333333333,
              "#9c179e"
             ],
             [
              0.4444444444444444,
              "#bd3786"
             ],
             [
              0.5555555555555556,
              "#d8576b"
             ],
             [
              0.6666666666666666,
              "#ed7953"
             ],
             [
              0.7777777777777778,
              "#fb9f3a"
             ],
             [
              0.8888888888888888,
              "#fdca26"
             ],
             [
              1,
              "#f0f921"
             ]
            ],
            "type": "heatmap"
           }
          ],
          "heatmapgl": [
           {
            "colorbar": {
             "outlinewidth": 0,
             "ticks": ""
            },
            "colorscale": [
             [
              0,
              "#0d0887"
             ],
             [
              0.1111111111111111,
              "#46039f"
             ],
             [
              0.2222222222222222,
              "#7201a8"
             ],
             [
              0.3333333333333333,
              "#9c179e"
             ],
             [
              0.4444444444444444,
              "#bd3786"
             ],
             [
              0.5555555555555556,
              "#d8576b"
             ],
             [
              0.6666666666666666,
              "#ed7953"
             ],
             [
              0.7777777777777778,
              "#fb9f3a"
             ],
             [
              0.8888888888888888,
              "#fdca26"
             ],
             [
              1,
              "#f0f921"
             ]
            ],
            "type": "heatmapgl"
           }
          ],
          "histogram": [
           {
            "marker": {
             "pattern": {
              "fillmode": "overlay",
              "size": 10,
              "solidity": 0.2
             }
            },
            "type": "histogram"
           }
          ],
          "histogram2d": [
           {
            "colorbar": {
             "outlinewidth": 0,
             "ticks": ""
            },
            "colorscale": [
             [
              0,
              "#0d0887"
             ],
             [
              0.1111111111111111,
              "#46039f"
             ],
             [
              0.2222222222222222,
              "#7201a8"
             ],
             [
              0.3333333333333333,
              "#9c179e"
             ],
             [
              0.4444444444444444,
              "#bd3786"
             ],
             [
              0.5555555555555556,
              "#d8576b"
             ],
             [
              0.6666666666666666,
              "#ed7953"
             ],
             [
              0.7777777777777778,
              "#fb9f3a"
             ],
             [
              0.8888888888888888,
              "#fdca26"
             ],
             [
              1,
              "#f0f921"
             ]
            ],
            "type": "histogram2d"
           }
          ],
          "histogram2dcontour": [
           {
            "colorbar": {
             "outlinewidth": 0,
             "ticks": ""
            },
            "colorscale": [
             [
              0,
              "#0d0887"
             ],
             [
              0.1111111111111111,
              "#46039f"
             ],
             [
              0.2222222222222222,
              "#7201a8"
             ],
             [
              0.3333333333333333,
              "#9c179e"
             ],
             [
              0.4444444444444444,
              "#bd3786"
             ],
             [
              0.5555555555555556,
              "#d8576b"
             ],
             [
              0.6666666666666666,
              "#ed7953"
             ],
             [
              0.7777777777777778,
              "#fb9f3a"
             ],
             [
              0.8888888888888888,
              "#fdca26"
             ],
             [
              1,
              "#f0f921"
             ]
            ],
            "type": "histogram2dcontour"
           }
          ],
          "mesh3d": [
           {
            "colorbar": {
             "outlinewidth": 0,
             "ticks": ""
            },
            "type": "mesh3d"
           }
          ],
          "parcoords": [
           {
            "line": {
             "colorbar": {
              "outlinewidth": 0,
              "ticks": ""
             }
            },
            "type": "parcoords"
           }
          ],
          "pie": [
           {
            "automargin": true,
            "type": "pie"
           }
          ],
          "scatter": [
           {
            "fillpattern": {
             "fillmode": "overlay",
             "size": 10,
             "solidity": 0.2
            },
            "type": "scatter"
           }
          ],
          "scatter3d": [
           {
            "line": {
             "colorbar": {
              "outlinewidth": 0,
              "ticks": ""
             }
            },
            "marker": {
             "colorbar": {
              "outlinewidth": 0,
              "ticks": ""
             }
            },
            "type": "scatter3d"
           }
          ],
          "scattercarpet": [
           {
            "marker": {
             "colorbar": {
              "outlinewidth": 0,
              "ticks": ""
             }
            },
            "type": "scattercarpet"
           }
          ],
          "scattergeo": [
           {
            "marker": {
             "colorbar": {
              "outlinewidth": 0,
              "ticks": ""
             }
            },
            "type": "scattergeo"
           }
          ],
          "scattergl": [
           {
            "marker": {
             "colorbar": {
              "outlinewidth": 0,
              "ticks": ""
             }
            },
            "type": "scattergl"
           }
          ],
          "scattermapbox": [
           {
            "marker": {
             "colorbar": {
              "outlinewidth": 0,
              "ticks": ""
             }
            },
            "type": "scattermapbox"
           }
          ],
          "scatterpolar": [
           {
            "marker": {
             "colorbar": {
              "outlinewidth": 0,
              "ticks": ""
             }
            },
            "type": "scatterpolar"
           }
          ],
          "scatterpolargl": [
           {
            "marker": {
             "colorbar": {
              "outlinewidth": 0,
              "ticks": ""
             }
            },
            "type": "scatterpolargl"
           }
          ],
          "scatterternary": [
           {
            "marker": {
             "colorbar": {
              "outlinewidth": 0,
              "ticks": ""
             }
            },
            "type": "scatterternary"
           }
          ],
          "surface": [
           {
            "colorbar": {
             "outlinewidth": 0,
             "ticks": ""
            },
            "colorscale": [
             [
              0,
              "#0d0887"
             ],
             [
              0.1111111111111111,
              "#46039f"
             ],
             [
              0.2222222222222222,
              "#7201a8"
             ],
             [
              0.3333333333333333,
              "#9c179e"
             ],
             [
              0.4444444444444444,
              "#bd3786"
             ],
             [
              0.5555555555555556,
              "#d8576b"
             ],
             [
              0.6666666666666666,
              "#ed7953"
             ],
             [
              0.7777777777777778,
              "#fb9f3a"
             ],
             [
              0.8888888888888888,
              "#fdca26"
             ],
             [
              1,
              "#f0f921"
             ]
            ],
            "type": "surface"
           }
          ],
          "table": [
           {
            "cells": {
             "fill": {
              "color": "#EBF0F8"
             },
             "line": {
              "color": "white"
             }
            },
            "header": {
             "fill": {
              "color": "#C8D4E3"
             },
             "line": {
              "color": "white"
             }
            },
            "type": "table"
           }
          ]
         },
         "layout": {
          "annotationdefaults": {
           "arrowcolor": "#2a3f5f",
           "arrowhead": 0,
           "arrowwidth": 1
          },
          "autotypenumbers": "strict",
          "coloraxis": {
           "colorbar": {
            "outlinewidth": 0,
            "ticks": ""
           }
          },
          "colorscale": {
           "diverging": [
            [
             0,
             "#8e0152"
            ],
            [
             0.1,
             "#c51b7d"
            ],
            [
             0.2,
             "#de77ae"
            ],
            [
             0.3,
             "#f1b6da"
            ],
            [
             0.4,
             "#fde0ef"
            ],
            [
             0.5,
             "#f7f7f7"
            ],
            [
             0.6,
             "#e6f5d0"
            ],
            [
             0.7,
             "#b8e186"
            ],
            [
             0.8,
             "#7fbc41"
            ],
            [
             0.9,
             "#4d9221"
            ],
            [
             1,
             "#276419"
            ]
           ],
           "sequential": [
            [
             0,
             "#0d0887"
            ],
            [
             0.1111111111111111,
             "#46039f"
            ],
            [
             0.2222222222222222,
             "#7201a8"
            ],
            [
             0.3333333333333333,
             "#9c179e"
            ],
            [
             0.4444444444444444,
             "#bd3786"
            ],
            [
             0.5555555555555556,
             "#d8576b"
            ],
            [
             0.6666666666666666,
             "#ed7953"
            ],
            [
             0.7777777777777778,
             "#fb9f3a"
            ],
            [
             0.8888888888888888,
             "#fdca26"
            ],
            [
             1,
             "#f0f921"
            ]
           ],
           "sequentialminus": [
            [
             0,
             "#0d0887"
            ],
            [
             0.1111111111111111,
             "#46039f"
            ],
            [
             0.2222222222222222,
             "#7201a8"
            ],
            [
             0.3333333333333333,
             "#9c179e"
            ],
            [
             0.4444444444444444,
             "#bd3786"
            ],
            [
             0.5555555555555556,
             "#d8576b"
            ],
            [
             0.6666666666666666,
             "#ed7953"
            ],
            [
             0.7777777777777778,
             "#fb9f3a"
            ],
            [
             0.8888888888888888,
             "#fdca26"
            ],
            [
             1,
             "#f0f921"
            ]
           ]
          },
          "colorway": [
           "#636efa",
           "#EF553B",
           "#00cc96",
           "#ab63fa",
           "#FFA15A",
           "#19d3f3",
           "#FF6692",
           "#B6E880",
           "#FF97FF",
           "#FECB52"
          ],
          "font": {
           "color": "#2a3f5f"
          },
          "geo": {
           "bgcolor": "white",
           "lakecolor": "white",
           "landcolor": "#E5ECF6",
           "showlakes": true,
           "showland": true,
           "subunitcolor": "white"
          },
          "hoverlabel": {
           "align": "left"
          },
          "hovermode": "closest",
          "mapbox": {
           "style": "light"
          },
          "paper_bgcolor": "white",
          "plot_bgcolor": "#E5ECF6",
          "polar": {
           "angularaxis": {
            "gridcolor": "white",
            "linecolor": "white",
            "ticks": ""
           },
           "bgcolor": "#E5ECF6",
           "radialaxis": {
            "gridcolor": "white",
            "linecolor": "white",
            "ticks": ""
           }
          },
          "scene": {
           "xaxis": {
            "backgroundcolor": "#E5ECF6",
            "gridcolor": "white",
            "gridwidth": 2,
            "linecolor": "white",
            "showbackground": true,
            "ticks": "",
            "zerolinecolor": "white"
           },
           "yaxis": {
            "backgroundcolor": "#E5ECF6",
            "gridcolor": "white",
            "gridwidth": 2,
            "linecolor": "white",
            "showbackground": true,
            "ticks": "",
            "zerolinecolor": "white"
           },
           "zaxis": {
            "backgroundcolor": "#E5ECF6",
            "gridcolor": "white",
            "gridwidth": 2,
            "linecolor": "white",
            "showbackground": true,
            "ticks": "",
            "zerolinecolor": "white"
           }
          },
          "shapedefaults": {
           "line": {
            "color": "#2a3f5f"
           }
          },
          "ternary": {
           "aaxis": {
            "gridcolor": "white",
            "linecolor": "white",
            "ticks": ""
           },
           "baxis": {
            "gridcolor": "white",
            "linecolor": "white",
            "ticks": ""
           },
           "bgcolor": "#E5ECF6",
           "caxis": {
            "gridcolor": "white",
            "linecolor": "white",
            "ticks": ""
           }
          },
          "title": {
           "x": 0.05
          },
          "xaxis": {
           "automargin": true,
           "gridcolor": "white",
           "linecolor": "white",
           "ticks": "",
           "title": {
            "standoff": 15
           },
           "zerolinecolor": "white",
           "zerolinewidth": 2
          },
          "yaxis": {
           "automargin": true,
           "gridcolor": "white",
           "linecolor": "white",
           "ticks": "",
           "title": {
            "standoff": 15
           },
           "zerolinecolor": "white",
           "zerolinewidth": 2
          }
         }
        },
        "title": {
         "font": {
          "size": 16
         },
         "text": ""
        },
        "width": 600,
        "xaxis": {
         "autorange": true,
         "showgrid": false,
         "showline": false,
         "showticklabels": false,
         "ticks": "",
         "visible": false,
         "zeroline": false
        },
        "yaxis": {
         "autorange": true,
         "showgrid": false,
         "showline": false,
         "showticklabels": false,
         "ticks": "",
         "visible": false,
         "zeroline": false
        }
       }
      },
      "text/html": [
       "<div>                            <div id=\"55452f26-250d-4010-b7c9-b648c8de1a8f\" class=\"plotly-graph-div\" style=\"height:600px; width:600px;\"></div>            <script type=\"text/javascript\">                require([\"plotly\"], function(Plotly) {                    window.PLOTLYENV=window.PLOTLYENV || {};                                    if (document.getElementById(\"55452f26-250d-4010-b7c9-b648c8de1a8f\")) {                    Plotly.newPlot(                        \"55452f26-250d-4010-b7c9-b648c8de1a8f\",                        [{\"hoverinfo\":\"none\",\"line\":{\"color\":\"#808080\",\"width\":2},\"mode\":\"lines\",\"opacity\":1,\"x\":[1.2246467991473532e-16,1.2246467991473532e-16,null,1.9021130325903073,1.9021130325903073,null],\"y\":[2.0,2.0,null,0.6180339887498943,0.6180339887498943,null],\"type\":\"scatter\"},{\"hoverinfo\":\"none\",\"line\":{\"color\":\"#463480\",\"width\":3.0399274047186933},\"mode\":\"lines\",\"opacity\":1,\"x\":[1.2246467991473532e-16,-1.902113032590307,null],\"y\":[2.0,0.618033988749895,null],\"type\":\"scatter\"},{\"hoverinfo\":\"none\",\"line\":{\"color\":\"#481c6e\",\"width\":1.528555431131019},\"mode\":\"lines\",\"opacity\":1,\"x\":[1.2246467991473532e-16,-1.1755705045849465,null],\"y\":[2.0,-1.6180339887498947,null],\"type\":\"scatter\"},{\"hoverinfo\":\"none\",\"line\":{\"color\":\"#3e4c8a\",\"width\":4.6085417030949465},\"mode\":\"lines\",\"opacity\":1,\"x\":[1.2246467991473532e-16,1.1755705045849458,null],\"y\":[2.0,-1.6180339887498951,null],\"type\":\"scatter\"},{\"hoverinfo\":\"none\",\"line\":{\"color\":\"#453882\",\"width\":3.264006791171477},\"mode\":\"lines\",\"opacity\":1,\"x\":[1.2246467991473532e-16,1.9021130325903073,null],\"y\":[2.0,0.6180339887498943,null],\"type\":\"scatter\"},{\"hoverinfo\":\"none\",\"line\":{\"color\":\"#fde725\",\"width\":29.597701149425287},\"mode\":\"lines\",\"opacity\":1,\"x\":[-1.902113032590307,-1.902113032590307,null],\"y\":[0.618033988749895,0.618033988749895,null],\"type\":\"scatter\"},{\"hoverinfo\":\"none\",\"line\":{\"color\":\"#482979\",\"width\":2.3251406211787726},\"mode\":\"lines\",\"opacity\":1,\"x\":[-1.902113032590307,-1.1755705045849465,null],\"y\":[0.618033988749895,-1.6180339887498947,null],\"type\":\"scatter\"},{\"hoverinfo\":\"none\",\"line\":{\"color\":\"#46307e\",\"width\":2.7747546492534467},\"mode\":\"lines\",\"opacity\":1,\"x\":[-1.902113032590307,1.1755705045849458,null],\"y\":[0.618033988749895,-1.6180339887498951,null],\"type\":\"scatter\"},{\"hoverinfo\":\"none\",\"line\":{\"color\":\"#21908d\",\"width\":9.937893956247683},\"mode\":\"lines\",\"opacity\":1,\"x\":[-1.902113032590307,1.9021130325903073,null],\"y\":[0.618033988749895,0.6180339887498943,null],\"type\":\"scatter\"},{\"hoverinfo\":\"none\",\"line\":{\"color\":\"#8ed645\",\"width\":16.595744680851062},\"mode\":\"lines\",\"opacity\":1,\"x\":[-1.1755705045849465,-1.1755705045849465,null],\"y\":[-1.6180339887498947,-1.6180339887498947,null],\"type\":\"scatter\"},{\"hoverinfo\":\"none\",\"line\":{\"color\":\"#c8e020\",\"width\":18.312009613345584},\"mode\":\"lines\",\"opacity\":1,\"x\":[-1.1755705045849465,1.1755705045849458,null],\"y\":[-1.6180339887498947,-1.6180339887498951,null],\"type\":\"scatter\"},{\"hoverinfo\":\"none\",\"line\":{\"color\":\"#414287\",\"width\":3.912148249828415},\"mode\":\"lines\",\"opacity\":1,\"x\":[-1.1755705045849465,1.9021130325903073,null],\"y\":[-1.6180339887498947,0.6180339887498943,null],\"type\":\"scatter\"},{\"hoverinfo\":\"none\",\"line\":{\"color\":\"#fde725\",\"width\":40.033222591362126},\"mode\":\"lines\",\"opacity\":1,\"x\":[1.1755705045849458,1.1755705045849458,null],\"y\":[-1.6180339887498951,-1.6180339887498951,null],\"type\":\"scatter\"},{\"hoverinfo\":\"none\",\"line\":{\"color\":\"#355e8d\",\"width\":5.903975993998499},\"mode\":\"lines\",\"opacity\":1,\"x\":[1.1755705045849458,1.9021130325903073,null],\"y\":[-1.6180339887498951,0.6180339887498943,null],\"type\":\"scatter\"},{\"hoverinfo\":\"text\",\"marker\":{\"color\":[\"#e41a1c\",\"#4daf4a\",\"#ff7f00\",\"#a65628\",\"#999999\"],\"colorbar\":{\"thickness\":15,\"title\":{\"side\":\"right\",\"text\":\"\"},\"xanchor\":\"left\"},\"colorscale\":[[0.0,\"rgb(255,255,217)\"],[0.125,\"rgb(237,248,177)\"],[0.25,\"rgb(199,233,180)\"],[0.375,\"rgb(127,205,187)\"],[0.5,\"rgb(65,182,196)\"],[0.625,\"rgb(29,145,192)\"],[0.75,\"rgb(34,94,168)\"],[0.875,\"rgb(37,52,148)\"],[1.0,\"rgb(8,29,88)\"]],\"line\":{\"color\":\"#333333\",\"width\":2},\"reversescale\":false,\"showscale\":false,\"size\":[64.47368421052632,59.195402298850574,33.191489361702125,80.06644518272425,40.64516129032258]},\"mode\":\"markers+text\",\"opacity\":1,\"text\":[\"lclc\",\"hela\",\"mcf7\",\"mdamb231\",\"preo\"],\"textfont\":{\"color\":\"#000000\",\"family\":\"Arial\",\"size\":14},\"textposition\":\"top center\",\"x\":[1.2246467991473532e-16,-1.902113032590307,-1.1755705045849465,1.1755705045849458,1.9021130325903073],\"y\":[2.0,0.618033988749895,-1.6180339887498947,-1.6180339887498951,0.6180339887498943],\"type\":\"scatter\"}],                        {\"autosize\":false,\"height\":600,\"hovermode\":\"closest\",\"margin\":{\"b\":5,\"l\":0,\"r\":0,\"t\":20},\"paper_bgcolor\":\"rgba(255,255,255,255)\",\"plot_bgcolor\":\"rgba(0,0,0,0)\",\"scene\":{\"xaxis\":{\"autorange\":true,\"showgrid\":false,\"showline\":false,\"showticklabels\":false,\"ticks\":\"\",\"visible\":false,\"zeroline\":false},\"yaxis\":{\"autorange\":true,\"showgrid\":false,\"showline\":false,\"showticklabels\":false,\"ticks\":\"\",\"visible\":false,\"zeroline\":false},\"zaxis\":{\"autorange\":true,\"showgrid\":false,\"showline\":false,\"showticklabels\":false,\"ticks\":\"\",\"visible\":false,\"zeroline\":false}},\"showlegend\":false,\"title\":{\"font\":{\"size\":16},\"text\":\"\"},\"width\":600,\"xaxis\":{\"autorange\":true,\"showgrid\":false,\"showline\":false,\"showticklabels\":false,\"ticks\":\"\",\"visible\":false,\"zeroline\":false},\"yaxis\":{\"autorange\":true,\"showgrid\":false,\"showline\":false,\"showticklabels\":false,\"ticks\":\"\",\"visible\":false,\"zeroline\":false},\"template\":{\"data\":{\"histogram2dcontour\":[{\"type\":\"histogram2dcontour\",\"colorbar\":{\"outlinewidth\":0,\"ticks\":\"\"},\"colorscale\":[[0.0,\"#0d0887\"],[0.1111111111111111,\"#46039f\"],[0.2222222222222222,\"#7201a8\"],[0.3333333333333333,\"#9c179e\"],[0.4444444444444444,\"#bd3786\"],[0.5555555555555556,\"#d8576b\"],[0.6666666666666666,\"#ed7953\"],[0.7777777777777778,\"#fb9f3a\"],[0.8888888888888888,\"#fdca26\"],[1.0,\"#f0f921\"]]}],\"choropleth\":[{\"type\":\"choropleth\",\"colorbar\":{\"outlinewidth\":0,\"ticks\":\"\"}}],\"histogram2d\":[{\"type\":\"histogram2d\",\"colorbar\":{\"outlinewidth\":0,\"ticks\":\"\"},\"colorscale\":[[0.0,\"#0d0887\"],[0.1111111111111111,\"#46039f\"],[0.2222222222222222,\"#7201a8\"],[0.3333333333333333,\"#9c179e\"],[0.4444444444444444,\"#bd3786\"],[0.5555555555555556,\"#d8576b\"],[0.6666666666666666,\"#ed7953\"],[0.7777777777777778,\"#fb9f3a\"],[0.8888888888888888,\"#fdca26\"],[1.0,\"#f0f921\"]]}],\"heatmap\":[{\"type\":\"heatmap\",\"colorbar\":{\"outlinewidth\":0,\"ticks\":\"\"},\"colorscale\":[[0.0,\"#0d0887\"],[0.1111111111111111,\"#46039f\"],[0.2222222222222222,\"#7201a8\"],[0.3333333333333333,\"#9c179e\"],[0.4444444444444444,\"#bd3786\"],[0.5555555555555556,\"#d8576b\"],[0.6666666666666666,\"#ed7953\"],[0.7777777777777778,\"#fb9f3a\"],[0.8888888888888888,\"#fdca26\"],[1.0,\"#f0f921\"]]}],\"heatmapgl\":[{\"type\":\"heatmapgl\",\"colorbar\":{\"outlinewidth\":0,\"ticks\":\"\"},\"colorscale\":[[0.0,\"#0d0887\"],[0.1111111111111111,\"#46039f\"],[0.2222222222222222,\"#7201a8\"],[0.3333333333333333,\"#9c179e\"],[0.4444444444444444,\"#bd3786\"],[0.5555555555555556,\"#d8576b\"],[0.6666666666666666,\"#ed7953\"],[0.7777777777777778,\"#fb9f3a\"],[0.8888888888888888,\"#fdca26\"],[1.0,\"#f0f921\"]]}],\"contourcarpet\":[{\"type\":\"contourcarpet\",\"colorbar\":{\"outlinewidth\":0,\"ticks\":\"\"}}],\"contour\":[{\"type\":\"contour\",\"colorbar\":{\"outlinewidth\":0,\"ticks\":\"\"},\"colorscale\":[[0.0,\"#0d0887\"],[0.1111111111111111,\"#46039f\"],[0.2222222222222222,\"#7201a8\"],[0.3333333333333333,\"#9c179e\"],[0.4444444444444444,\"#bd3786\"],[0.5555555555555556,\"#d8576b\"],[0.6666666666666666,\"#ed7953\"],[0.7777777777777778,\"#fb9f3a\"],[0.8888888888888888,\"#fdca26\"],[1.0,\"#f0f921\"]]}],\"surface\":[{\"type\":\"surface\",\"colorbar\":{\"outlinewidth\":0,\"ticks\":\"\"},\"colorscale\":[[0.0,\"#0d0887\"],[0.1111111111111111,\"#46039f\"],[0.2222222222222222,\"#7201a8\"],[0.3333333333333333,\"#9c179e\"],[0.4444444444444444,\"#bd3786\"],[0.5555555555555556,\"#d8576b\"],[0.6666666666666666,\"#ed7953\"],[0.7777777777777778,\"#fb9f3a\"],[0.8888888888888888,\"#fdca26\"],[1.0,\"#f0f921\"]]}],\"mesh3d\":[{\"type\":\"mesh3d\",\"colorbar\":{\"outlinewidth\":0,\"ticks\":\"\"}}],\"scatter\":[{\"fillpattern\":{\"fillmode\":\"overlay\",\"size\":10,\"solidity\":0.2},\"type\":\"scatter\"}],\"parcoords\":[{\"type\":\"parcoords\",\"line\":{\"colorbar\":{\"outlinewidth\":0,\"ticks\":\"\"}}}],\"scatterpolargl\":[{\"type\":\"scatterpolargl\",\"marker\":{\"colorbar\":{\"outlinewidth\":0,\"ticks\":\"\"}}}],\"bar\":[{\"error_x\":{\"color\":\"#2a3f5f\"},\"error_y\":{\"color\":\"#2a3f5f\"},\"marker\":{\"line\":{\"color\":\"#E5ECF6\",\"width\":0.5},\"pattern\":{\"fillmode\":\"overlay\",\"size\":10,\"solidity\":0.2}},\"type\":\"bar\"}],\"scattergeo\":[{\"type\":\"scattergeo\",\"marker\":{\"colorbar\":{\"outlinewidth\":0,\"ticks\":\"\"}}}],\"scatterpolar\":[{\"type\":\"scatterpolar\",\"marker\":{\"colorbar\":{\"outlinewidth\":0,\"ticks\":\"\"}}}],\"histogram\":[{\"marker\":{\"pattern\":{\"fillmode\":\"overlay\",\"size\":10,\"solidity\":0.2}},\"type\":\"histogram\"}],\"scattergl\":[{\"type\":\"scattergl\",\"marker\":{\"colorbar\":{\"outlinewidth\":0,\"ticks\":\"\"}}}],\"scatter3d\":[{\"type\":\"scatter3d\",\"line\":{\"colorbar\":{\"outlinewidth\":0,\"ticks\":\"\"}},\"marker\":{\"colorbar\":{\"outlinewidth\":0,\"ticks\":\"\"}}}],\"scattermapbox\":[{\"type\":\"scattermapbox\",\"marker\":{\"colorbar\":{\"outlinewidth\":0,\"ticks\":\"\"}}}],\"scatterternary\":[{\"type\":\"scatterternary\",\"marker\":{\"colorbar\":{\"outlinewidth\":0,\"ticks\":\"\"}}}],\"scattercarpet\":[{\"type\":\"scattercarpet\",\"marker\":{\"colorbar\":{\"outlinewidth\":0,\"ticks\":\"\"}}}],\"carpet\":[{\"aaxis\":{\"endlinecolor\":\"#2a3f5f\",\"gridcolor\":\"white\",\"linecolor\":\"white\",\"minorgridcolor\":\"white\",\"startlinecolor\":\"#2a3f5f\"},\"baxis\":{\"endlinecolor\":\"#2a3f5f\",\"gridcolor\":\"white\",\"linecolor\":\"white\",\"minorgridcolor\":\"white\",\"startlinecolor\":\"#2a3f5f\"},\"type\":\"carpet\"}],\"table\":[{\"cells\":{\"fill\":{\"color\":\"#EBF0F8\"},\"line\":{\"color\":\"white\"}},\"header\":{\"fill\":{\"color\":\"#C8D4E3\"},\"line\":{\"color\":\"white\"}},\"type\":\"table\"}],\"barpolar\":[{\"marker\":{\"line\":{\"color\":\"#E5ECF6\",\"width\":0.5},\"pattern\":{\"fillmode\":\"overlay\",\"size\":10,\"solidity\":0.2}},\"type\":\"barpolar\"}],\"pie\":[{\"automargin\":true,\"type\":\"pie\"}]},\"layout\":{\"autotypenumbers\":\"strict\",\"colorway\":[\"#636efa\",\"#EF553B\",\"#00cc96\",\"#ab63fa\",\"#FFA15A\",\"#19d3f3\",\"#FF6692\",\"#B6E880\",\"#FF97FF\",\"#FECB52\"],\"font\":{\"color\":\"#2a3f5f\"},\"hovermode\":\"closest\",\"hoverlabel\":{\"align\":\"left\"},\"paper_bgcolor\":\"white\",\"plot_bgcolor\":\"#E5ECF6\",\"polar\":{\"bgcolor\":\"#E5ECF6\",\"angularaxis\":{\"gridcolor\":\"white\",\"linecolor\":\"white\",\"ticks\":\"\"},\"radialaxis\":{\"gridcolor\":\"white\",\"linecolor\":\"white\",\"ticks\":\"\"}},\"ternary\":{\"bgcolor\":\"#E5ECF6\",\"aaxis\":{\"gridcolor\":\"white\",\"linecolor\":\"white\",\"ticks\":\"\"},\"baxis\":{\"gridcolor\":\"white\",\"linecolor\":\"white\",\"ticks\":\"\"},\"caxis\":{\"gridcolor\":\"white\",\"linecolor\":\"white\",\"ticks\":\"\"}},\"coloraxis\":{\"colorbar\":{\"outlinewidth\":0,\"ticks\":\"\"}},\"colorscale\":{\"sequential\":[[0.0,\"#0d0887\"],[0.1111111111111111,\"#46039f\"],[0.2222222222222222,\"#7201a8\"],[0.3333333333333333,\"#9c179e\"],[0.4444444444444444,\"#bd3786\"],[0.5555555555555556,\"#d8576b\"],[0.6666666666666666,\"#ed7953\"],[0.7777777777777778,\"#fb9f3a\"],[0.8888888888888888,\"#fdca26\"],[1.0,\"#f0f921\"]],\"sequentialminus\":[[0.0,\"#0d0887\"],[0.1111111111111111,\"#46039f\"],[0.2222222222222222,\"#7201a8\"],[0.3333333333333333,\"#9c179e\"],[0.4444444444444444,\"#bd3786\"],[0.5555555555555556,\"#d8576b\"],[0.6666666666666666,\"#ed7953\"],[0.7777777777777778,\"#fb9f3a\"],[0.8888888888888888,\"#fdca26\"],[1.0,\"#f0f921\"]],\"diverging\":[[0,\"#8e0152\"],[0.1,\"#c51b7d\"],[0.2,\"#de77ae\"],[0.3,\"#f1b6da\"],[0.4,\"#fde0ef\"],[0.5,\"#f7f7f7\"],[0.6,\"#e6f5d0\"],[0.7,\"#b8e186\"],[0.8,\"#7fbc41\"],[0.9,\"#4d9221\"],[1,\"#276419\"]]},\"xaxis\":{\"gridcolor\":\"white\",\"linecolor\":\"white\",\"ticks\":\"\",\"title\":{\"standoff\":15},\"zerolinecolor\":\"white\",\"automargin\":true,\"zerolinewidth\":2},\"yaxis\":{\"gridcolor\":\"white\",\"linecolor\":\"white\",\"ticks\":\"\",\"title\":{\"standoff\":15},\"zerolinecolor\":\"white\",\"automargin\":true,\"zerolinewidth\":2},\"scene\":{\"xaxis\":{\"backgroundcolor\":\"#E5ECF6\",\"gridcolor\":\"white\",\"linecolor\":\"white\",\"showbackground\":true,\"ticks\":\"\",\"zerolinecolor\":\"white\",\"gridwidth\":2},\"yaxis\":{\"backgroundcolor\":\"#E5ECF6\",\"gridcolor\":\"white\",\"linecolor\":\"white\",\"showbackground\":true,\"ticks\":\"\",\"zerolinecolor\":\"white\",\"gridwidth\":2},\"zaxis\":{\"backgroundcolor\":\"#E5ECF6\",\"gridcolor\":\"white\",\"linecolor\":\"white\",\"showbackground\":true,\"ticks\":\"\",\"zerolinecolor\":\"white\",\"gridwidth\":2}},\"shapedefaults\":{\"line\":{\"color\":\"#2a3f5f\"}},\"annotationdefaults\":{\"arrowcolor\":\"#2a3f5f\",\"arrowhead\":0,\"arrowwidth\":1},\"geo\":{\"bgcolor\":\"white\",\"landcolor\":\"#E5ECF6\",\"subunitcolor\":\"white\",\"showland\":true,\"showlakes\":true,\"lakecolor\":\"white\"},\"title\":{\"x\":0.05},\"mapbox\":{\"style\":\"light\"}}}},                        {\"responsive\": true}                    ).then(function(){\n",
       "                            \n",
       "var gd = document.getElementById('55452f26-250d-4010-b7c9-b648c8de1a8f');\n",
       "var x = new MutationObserver(function (mutations, observer) {{\n",
       "        var display = window.getComputedStyle(gd).display;\n",
       "        if (!display || display === 'none') {{\n",
       "            console.log([gd, 'removed!']);\n",
       "            Plotly.purge(gd);\n",
       "            observer.disconnect();\n",
       "        }}\n",
       "}});\n",
       "\n",
       "// Listen for the removal of the full notebook cells\n",
       "var notebookContainer = gd.closest('#notebook-container');\n",
       "if (notebookContainer) {{\n",
       "    x.observe(notebookContainer, {childList: true});\n",
       "}}\n",
       "\n",
       "// Listen for the clearing of the current output cell\n",
       "var outputEl = gd.closest('.output');\n",
       "if (outputEl) {{\n",
       "    x.observe(outputEl, {childList: true});\n",
       "}}\n",
       "\n",
       "                        })                };                });            </script>        </div>"
      ]
     },
     "metadata": {},
     "output_type": "display_data"
    }
   ],
   "source": [
    "vis = GraphVisualization(\n",
    "    G,\n",
    "    node_pos,\n",
    "    node_text_position='top center',\n",
    "    node_size=node_size,\n",
    "    node_color=node_color,                   # color vertices based on their IDs\n",
    "    node_text=labels,\n",
    "    edge_color=edge_colors,\n",
    "    edge_width=edge_widths,\n",
    "    edge_opacity=1,\n",
    "    node_opacity=1,\n",
    ")\n",
    "fig = vis.create_figure()\n",
    "fig.show()"
   ]
  },
  {
   "cell_type": "code",
   "execution_count": null,
   "metadata": {},
   "outputs": [],
   "source": []
  }
 ],
 "metadata": {
  "kernelspec": {
   "display_name": "Python 3 (ipykernel)",
   "language": "python",
   "name": "python3"
  },
  "language_info": {
   "codemirror_mode": {
    "name": "ipython",
    "version": 3
   },
   "file_extension": ".py",
   "mimetype": "text/x-python",
   "name": "python",
   "nbconvert_exporter": "python",
   "pygments_lexer": "ipython3",
   "version": "3.10.6"
  },
  "vscode": {
   "interpreter": {
    "hash": "2fd3bbdfa923658c6d5e5671aecb15a5f4bacb63005c242ea558ac2164f2eb45"
   }
  }
 },
 "nbformat": 4,
 "nbformat_minor": 2
}
