{
 "cells": [
  {
   "cell_type": "code",
   "execution_count": 1,
   "metadata": {},
   "outputs": [],
   "source": [
    "import os\n",
    "from evaluation.load import get_dictionary, get_test, get_colors\n",
    "from evaluation.plots import *"
   ]
  },
  {
   "cell_type": "code",
   "execution_count": 2,
   "metadata": {},
   "outputs": [],
   "source": [
    "def run(data_path, result_path, color_path):\n",
    "    print(data_path, result_path, color_path)\n",
    "    result_paths = [ { 'name': name, 'path': os.path.join(result_path, name)} \n",
    "                    for name in os.listdir(result_path) if os.path.isdir(os.path.join(result_path, name))]\n",
    "    experiments = [ {'name': result['name'],'path': result['path'], \n",
    "                     'experiments': sorted([os.path.join(result['path'], name) \n",
    "                                            for name in os.listdir(result['path']) if os.path.isdir(os.path.join(result['path'], name))])} for result in result_paths]\n",
    "\n",
    "    labels, label_ids = get_dictionary(data_path)\n",
    "    x_test, y_test, test_labels = get_test(data_path, labels)\n",
    "    cmap = get_colors(color_path, labels)\n",
    "    \n",
    "    print(labels, cmap)\n",
    "\n",
    "    # print(\"Generating loss-accuracy plots\")\n",
    "    # for experiment in experiments:\n",
    "    #     generate_loss_acc_plot(os.path.join(experiment['path'], experiment['name']+'-tr-tst-metrics.png'), experiment)\n",
    "\n",
    "    # print(\"Generating total train-test metrics plot\")\n",
    "    # generate_tr_tst_plot(os.path.join(result_path, 'tr-tst-metrics.png'), experiments)\n",
    "\n",
    "    # print(\"Generating test prediction types plots\")\n",
    "    # for experiment in experiments:\n",
    "    #     for exp in experiment['experiments']:\n",
    "    #         generate_tst_pred_plot(exp, x_test, y_test, labels, cmap)\n",
    "\n",
    "    # print(\"Generating test prediction plots\")\n",
    "    # for experiment in experiments:\n",
    "    #     for exp in experiment['experiments']:\n",
    "    #         generate_preds_plot(exp, x_test, y_test, labels)\n",
    "\n",
    "    # print(\"Generating test histogram plots\")\n",
    "    # generate_test_hist_plot(os.path.join(result_path, 'tst-hist.png'), x_test, y_test, labels, label_ids, cmap)\n",
    "\n",
    "    # print(\"Generating test types histogram plots\")\n",
    "    # for experiment in experiments:\n",
    "    #     for exp in experiment['experiments']:\n",
    "    #         generate_test_type_hist_plot(exp, x_test, y_test, labels, label_ids, cmap)\n",
    "\n",
    "    print(\"Generating confusion matrices\")\n",
    "    for experiment in experiments:\n",
    "        for exp in experiment['experiments']:\n",
    "            generate_conf_matrix(exp, test_labels, labels)\n",
    "\n",
    "    print(\"Generating confusion graphs\")\n",
    "    for experiment in experiments:\n",
    "        for exp in experiment['experiments']:\n",
    "            generate_conf_graph(exp, test_labels, labels, label_ids, cmap)"
   ]
  },
  {
   "cell_type": "code",
   "execution_count": 3,
   "metadata": {},
   "outputs": [],
   "source": [
    "COLOR_PATH = '../cell_data/data/1d-class-datasets/non-scaled/'\n",
    "# DATA_PATH = '../cell_data/data/1d-class-datasets/mdamb231-mcf7-lclc/fibronectin_full/'\n",
    "# RESULT_PATH = './results/mdamb231-mcf7-lclc/'"
   ]
  },
  {
   "cell_type": "code",
   "execution_count": 4,
   "metadata": {},
   "outputs": [],
   "source": [
    "data_paths = [\n",
    "    '../cell_data/data/1d-class-datasets/hela-mdamb231-mcf7-lclc/fibronectin_full/',\n",
    "    '../cell_data/data/1d-class-datasets/mdamb231-mcf7-lclc/fibronectin_full/',\n",
    "    '../cell_data/data/1d-class-datasets/mdamb231-mcf7/fibronectin_full/',\n",
    "    '../cell_data/data/1d-class-datasets/preo-hela-lclc/fibronectin_full/',\n",
    "    '../cell_data/data/1d-class-datasets/preo-hela-mdamb231-mcf7-lclc/fibronectin_full/',\n",
    "]\n",
    "result_paths = [\n",
    "    './results/3rd_run/hela-mdamb231-mcf7-lclc/',\n",
    "    './results/mdamb231-mcf7-lclc/',\n",
    "    './results/mdamb231-mcf7/',\n",
    "    './results/preo-hela-lclc/',\n",
    "    './results/preo-hela-mdamb231-mcf7-lclc/',\n",
    "]"
   ]
  },
  {
   "cell_type": "code",
   "execution_count": 5,
   "metadata": {},
   "outputs": [
    {
     "name": "stdout",
     "output_type": "stream",
     "text": [
      "../cell_data/data/1d-class-datasets/hela-mdamb231-mcf7-lclc/fibronectin_full/ ./results/3rd_run/hela-mdamb231-mcf7-lclc/ ../cell_data/data/1d-class-datasets/non-scaled/\n"
     ]
    },
    {
     "ename": "IndexError",
     "evalue": "list index out of range",
     "output_type": "error",
     "traceback": [
      "\u001b[0;31m---------------------------------------------------------------------------\u001b[0m",
      "\u001b[0;31mIndexError\u001b[0m                                Traceback (most recent call last)",
      "\u001b[0;32m/tmp/ipykernel_1403307/252240152.py\u001b[0m in \u001b[0;36m<module>\u001b[0;34m\u001b[0m\n\u001b[1;32m      3\u001b[0m \u001b[0md_path\u001b[0m \u001b[0;34m=\u001b[0m \u001b[0mdata_paths\u001b[0m\u001b[0;34m[\u001b[0m\u001b[0mi\u001b[0m\u001b[0;34m]\u001b[0m\u001b[0;34m\u001b[0m\u001b[0;34m\u001b[0m\u001b[0m\n\u001b[1;32m      4\u001b[0m \u001b[0mr_path\u001b[0m \u001b[0;34m=\u001b[0m \u001b[0mresult_paths\u001b[0m\u001b[0;34m[\u001b[0m\u001b[0mi\u001b[0m\u001b[0;34m]\u001b[0m\u001b[0;34m\u001b[0m\u001b[0;34m\u001b[0m\u001b[0m\n\u001b[0;32m----> 5\u001b[0;31m \u001b[0mrun\u001b[0m\u001b[0;34m(\u001b[0m\u001b[0md_path\u001b[0m\u001b[0;34m,\u001b[0m \u001b[0mr_path\u001b[0m\u001b[0;34m,\u001b[0m \u001b[0mCOLOR_PATH\u001b[0m\u001b[0;34m)\u001b[0m\u001b[0;34m\u001b[0m\u001b[0;34m\u001b[0m\u001b[0m\n\u001b[0m",
      "\u001b[0;32m/tmp/ipykernel_1403307/605436484.py\u001b[0m in \u001b[0;36mrun\u001b[0;34m(data_path, result_path, color_path)\u001b[0m\n\u001b[1;32m      8\u001b[0m \u001b[0;34m\u001b[0m\u001b[0m\n\u001b[1;32m      9\u001b[0m     \u001b[0mlabels\u001b[0m\u001b[0;34m,\u001b[0m \u001b[0mlabel_ids\u001b[0m \u001b[0;34m=\u001b[0m \u001b[0mget_dictionary\u001b[0m\u001b[0;34m(\u001b[0m\u001b[0mdata_path\u001b[0m\u001b[0;34m)\u001b[0m\u001b[0;34m\u001b[0m\u001b[0;34m\u001b[0m\u001b[0m\n\u001b[0;32m---> 10\u001b[0;31m     \u001b[0mx_test\u001b[0m\u001b[0;34m,\u001b[0m \u001b[0my_test\u001b[0m\u001b[0;34m,\u001b[0m \u001b[0mtest_labels\u001b[0m \u001b[0;34m=\u001b[0m \u001b[0mget_test\u001b[0m\u001b[0;34m(\u001b[0m\u001b[0mdata_path\u001b[0m\u001b[0;34m,\u001b[0m \u001b[0mlabels\u001b[0m\u001b[0;34m)\u001b[0m\u001b[0;34m\u001b[0m\u001b[0;34m\u001b[0m\u001b[0m\n\u001b[0m\u001b[1;32m     11\u001b[0m     \u001b[0mcmap\u001b[0m \u001b[0;34m=\u001b[0m \u001b[0mget_colors\u001b[0m\u001b[0;34m(\u001b[0m\u001b[0mcolor_path\u001b[0m\u001b[0;34m,\u001b[0m \u001b[0mlabels\u001b[0m\u001b[0;34m)\u001b[0m\u001b[0;34m\u001b[0m\u001b[0;34m\u001b[0m\u001b[0m\n\u001b[1;32m     12\u001b[0m \u001b[0;34m\u001b[0m\u001b[0m\n",
      "\u001b[0;32m~/projects/nanobio/dl-4-tsc/evaluation/load.py\u001b[0m in \u001b[0;36mget_test\u001b[0;34m(path, labels)\u001b[0m\n\u001b[1;32m     23\u001b[0m     \u001b[0mx_test\u001b[0m \u001b[0;34m=\u001b[0m \u001b[0mnp\u001b[0m\u001b[0;34m.\u001b[0m\u001b[0mload\u001b[0m\u001b[0;34m(\u001b[0m\u001b[0mos\u001b[0m\u001b[0;34m.\u001b[0m\u001b[0mpath\u001b[0m\u001b[0;34m.\u001b[0m\u001b[0mjoin\u001b[0m\u001b[0;34m(\u001b[0m\u001b[0mpath\u001b[0m\u001b[0;34m,\u001b[0m \u001b[0;34m'X_test.npy'\u001b[0m\u001b[0;34m)\u001b[0m\u001b[0;34m)\u001b[0m\u001b[0;34m\u001b[0m\u001b[0;34m\u001b[0m\u001b[0m\n\u001b[1;32m     24\u001b[0m     \u001b[0my_test\u001b[0m \u001b[0;34m=\u001b[0m \u001b[0mnp\u001b[0m\u001b[0;34m.\u001b[0m\u001b[0mload\u001b[0m\u001b[0;34m(\u001b[0m\u001b[0mos\u001b[0m\u001b[0;34m.\u001b[0m\u001b[0mpath\u001b[0m\u001b[0;34m.\u001b[0m\u001b[0mjoin\u001b[0m\u001b[0;34m(\u001b[0m\u001b[0mpath\u001b[0m\u001b[0;34m,\u001b[0m \u001b[0;34m'y_test.npy'\u001b[0m\u001b[0;34m)\u001b[0m\u001b[0;34m)\u001b[0m\u001b[0;34m\u001b[0m\u001b[0;34m\u001b[0m\u001b[0m\n\u001b[0;32m---> 25\u001b[0;31m     \u001b[0mtest_labels\u001b[0m \u001b[0;34m=\u001b[0m \u001b[0;34m[\u001b[0m\u001b[0mlabels\u001b[0m\u001b[0;34m[\u001b[0m\u001b[0my_test\u001b[0m\u001b[0;34m[\u001b[0m\u001b[0mn\u001b[0m\u001b[0;34m]\u001b[0m\u001b[0;34m]\u001b[0m \u001b[0;32mfor\u001b[0m \u001b[0mn\u001b[0m \u001b[0;32min\u001b[0m \u001b[0mrange\u001b[0m\u001b[0;34m(\u001b[0m\u001b[0my_test\u001b[0m\u001b[0;34m.\u001b[0m\u001b[0mshape\u001b[0m\u001b[0;34m[\u001b[0m\u001b[0;36m0\u001b[0m\u001b[0;34m]\u001b[0m\u001b[0;34m)\u001b[0m\u001b[0;34m]\u001b[0m\u001b[0;34m\u001b[0m\u001b[0;34m\u001b[0m\u001b[0m\n\u001b[0m\u001b[1;32m     26\u001b[0m     \u001b[0;32mreturn\u001b[0m \u001b[0mx_test\u001b[0m\u001b[0;34m,\u001b[0m \u001b[0my_test\u001b[0m\u001b[0;34m,\u001b[0m \u001b[0mtest_labels\u001b[0m\u001b[0;34m\u001b[0m\u001b[0;34m\u001b[0m\u001b[0m\n\u001b[1;32m     27\u001b[0m \u001b[0;34m\u001b[0m\u001b[0m\n",
      "\u001b[0;32m~/projects/nanobio/dl-4-tsc/evaluation/load.py\u001b[0m in \u001b[0;36m<listcomp>\u001b[0;34m(.0)\u001b[0m\n\u001b[1;32m     23\u001b[0m     \u001b[0mx_test\u001b[0m \u001b[0;34m=\u001b[0m \u001b[0mnp\u001b[0m\u001b[0;34m.\u001b[0m\u001b[0mload\u001b[0m\u001b[0;34m(\u001b[0m\u001b[0mos\u001b[0m\u001b[0;34m.\u001b[0m\u001b[0mpath\u001b[0m\u001b[0;34m.\u001b[0m\u001b[0mjoin\u001b[0m\u001b[0;34m(\u001b[0m\u001b[0mpath\u001b[0m\u001b[0;34m,\u001b[0m \u001b[0;34m'X_test.npy'\u001b[0m\u001b[0;34m)\u001b[0m\u001b[0;34m)\u001b[0m\u001b[0;34m\u001b[0m\u001b[0;34m\u001b[0m\u001b[0m\n\u001b[1;32m     24\u001b[0m     \u001b[0my_test\u001b[0m \u001b[0;34m=\u001b[0m \u001b[0mnp\u001b[0m\u001b[0;34m.\u001b[0m\u001b[0mload\u001b[0m\u001b[0;34m(\u001b[0m\u001b[0mos\u001b[0m\u001b[0;34m.\u001b[0m\u001b[0mpath\u001b[0m\u001b[0;34m.\u001b[0m\u001b[0mjoin\u001b[0m\u001b[0;34m(\u001b[0m\u001b[0mpath\u001b[0m\u001b[0;34m,\u001b[0m \u001b[0;34m'y_test.npy'\u001b[0m\u001b[0;34m)\u001b[0m\u001b[0;34m)\u001b[0m\u001b[0;34m\u001b[0m\u001b[0;34m\u001b[0m\u001b[0m\n\u001b[0;32m---> 25\u001b[0;31m     \u001b[0mtest_labels\u001b[0m \u001b[0;34m=\u001b[0m \u001b[0;34m[\u001b[0m\u001b[0mlabels\u001b[0m\u001b[0;34m[\u001b[0m\u001b[0my_test\u001b[0m\u001b[0;34m[\u001b[0m\u001b[0mn\u001b[0m\u001b[0;34m]\u001b[0m\u001b[0;34m]\u001b[0m \u001b[0;32mfor\u001b[0m \u001b[0mn\u001b[0m \u001b[0;32min\u001b[0m \u001b[0mrange\u001b[0m\u001b[0;34m(\u001b[0m\u001b[0my_test\u001b[0m\u001b[0;34m.\u001b[0m\u001b[0mshape\u001b[0m\u001b[0;34m[\u001b[0m\u001b[0;36m0\u001b[0m\u001b[0;34m]\u001b[0m\u001b[0;34m)\u001b[0m\u001b[0;34m]\u001b[0m\u001b[0;34m\u001b[0m\u001b[0;34m\u001b[0m\u001b[0m\n\u001b[0m\u001b[1;32m     26\u001b[0m     \u001b[0;32mreturn\u001b[0m \u001b[0mx_test\u001b[0m\u001b[0;34m,\u001b[0m \u001b[0my_test\u001b[0m\u001b[0;34m,\u001b[0m \u001b[0mtest_labels\u001b[0m\u001b[0;34m\u001b[0m\u001b[0;34m\u001b[0m\u001b[0m\n\u001b[1;32m     27\u001b[0m \u001b[0;34m\u001b[0m\u001b[0m\n",
      "\u001b[0;31mIndexError\u001b[0m: list index out of range"
     ]
    }
   ],
   "source": [
    "# for d_path, r_path in zip(data_paths, result_paths):\n",
    "i = 0\n",
    "d_path = data_paths[i]\n",
    "r_path = result_paths[i]\n",
    "run(d_path, r_path, COLOR_PATH)"
   ]
  },
  {
   "cell_type": "code",
   "execution_count": null,
   "metadata": {},
   "outputs": [],
   "source": []
  }
 ],
 "metadata": {
  "kernelspec": {
   "display_name": "Python 3 (ipykernel)",
   "language": "python",
   "name": "python3"
  },
  "language_info": {
   "codemirror_mode": {
    "name": "ipython",
    "version": 3
   },
   "file_extension": ".py",
   "mimetype": "text/x-python",
   "name": "python",
   "nbconvert_exporter": "python",
   "pygments_lexer": "ipython3",
   "version": "3.10.6"
  },
  "vscode": {
   "interpreter": {
    "hash": "2fd3bbdfa923658c6d5e5671aecb15a5f4bacb63005c242ea558ac2164f2eb45"
   }
  }
 },
 "nbformat": 4,
 "nbformat_minor": 2
}
