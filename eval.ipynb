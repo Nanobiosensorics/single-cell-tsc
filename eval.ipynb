{
 "cells": [
  {
   "cell_type": "code",
   "execution_count": 1,
   "metadata": {},
   "outputs": [],
   "source": [
    "import os\n",
    "from evaluation.load import get_dictionary, get_test, get_colors, get_data\n",
    "from evaluation.plots import *\n",
    "import subprocess\n",
    "from utils.utils import viz_cam"
   ]
  },
  {
   "cell_type": "code",
   "execution_count": 2,
   "metadata": {},
   "outputs": [],
   "source": [
    "def run(data_path, result_path, color_path):\n",
    "    print(data_path, result_path, color_path)\n",
    "    result_paths = [ { 'name': name, 'path': os.path.join(result_path, name)} \n",
    "                    for name in os.listdir(result_path) if os.path.isdir(os.path.join(result_path, name))]\n",
    "    experiments = [ {'name': result['name'],'path': result['path'], \n",
    "                     'experiments': sorted([os.path.join(result['path'], name) \n",
    "                                            for name in os.listdir(result['path']) if os.path.isdir(os.path.join(result['path'], name))])} for result in result_paths]\n",
    "\n",
    "    labels, label_ids = get_dictionary(data_path)\n",
    "    x_data, y_data, data_labels = get_data(data_path, labels)\n",
    "    x_test, y_test, test_labels = get_test(data_path, labels)\n",
    "    cmap, names = get_colors(color_path, labels)\n",
    "    \n",
    "    print(\"Generating average plot\")\n",
    "    generate_mean_plot(os.path.join(result_path, 'signal-means.png'), x_data, y_data, label_ids, cmap, names)\n",
    "\n",
    "    print(\"Generating loss-accuracy plots\")\n",
    "    for experiment in experiments:\n",
    "        generate_loss_acc_plot(os.path.join(experiment['path'], experiment['name']+'-tr-tst-metrics.png'), experiment)\n",
    "\n",
    "    print(\"Generating total train-test metrics plot\")\n",
    "    generate_tr_tst_plot(os.path.join(result_path, 'tr-tst-metrics.png'), experiments)\n",
    "\n",
    "    print(\"Generating test prediction types plots\")\n",
    "    for experiment in experiments:\n",
    "        for exp in experiment['experiments']:\n",
    "            generate_tst_pred_plot(exp, x_test, y_test, labels, cmap, names)\n",
    "\n",
    "    print(\"Generating test prediction plots\")\n",
    "    for experiment in experiments:\n",
    "        for exp in experiment['experiments']:\n",
    "            generate_preds_plot(exp, x_test, y_test, labels, names)\n",
    "\n",
    "    print(\"Generating test histogram plots\")\n",
    "    generate_test_hist_plot(os.path.join(result_path, 'tst-hist.png'), x_test, y_test, labels, label_ids, cmap, names)\n",
    "\n",
    "    print(\"Generating test types histogram plots\")\n",
    "    for experiment in experiments:\n",
    "        for exp in experiment['experiments']:\n",
    "            generate_test_type_hist_plot(exp, x_test, y_test, labels, label_ids, cmap, names)\n",
    "\n",
    "    print(\"Generating confusion matrices\")\n",
    "    for experiment in experiments:\n",
    "        for exp in experiment['experiments']:\n",
    "            generate_conf_matrix(exp, test_labels, labels, names)\n",
    "\n",
    "    print(\"Generating confusion graphs\")\n",
    "    for experiment in experiments:\n",
    "        for exp in experiment['experiments']:\n",
    "            generate_conf_graph(exp, test_labels, labels, label_ids, cmap, names)\n",
    "\n",
    "\n",
    "    for experiment in experiments:\n",
    "        for exp in experiment['experiments']:\n",
    "            if(any(classifier in exp for classifier in ['fcn', 'resnet', 'inception'])):\n",
    "                viz_cam(data_path, exp, names)"
   ]
  },
  {
   "cell_type": "code",
   "execution_count": null,
   "metadata": {},
   "outputs": [],
   "source": []
  },
  {
   "cell_type": "code",
   "execution_count": 3,
   "metadata": {},
   "outputs": [],
   "source": [
    "COLOR_PATH = '../cell_data/data/1d-class-datasets/interpolated-3rd-run/2hrs/'\n",
    "# DATA_PATH = '../cell_data/data/1d-class-datasets/mdamb231-mcf7-lclc/fibronectin_full/'\n",
    "# RESULT_PATH = './results/mdamb231-mcf7-lclc/'"
   ]
  },
  {
   "cell_type": "code",
   "execution_count": 4,
   "metadata": {},
   "outputs": [],
   "source": [
    "data_paths = [\n",
    "    '../cell_data/data/1d-class-datasets/hela-mdamb231-mcf7-lclc/fibronectin_full/',\n",
    "    '../cell_data/data/1d-class-datasets/mdamb231-mcf7-lclc/fibronectin_full/',\n",
    "    '../cell_data/data/1d-class-datasets/mdamb231-mcf7/fibronectin_full/',\n",
    "    '../cell_data/data/1d-class-datasets/preo-hela-lclc/fibronectin_full/',\n",
    "    '../cell_data/data/1d-class-datasets/preo-hela-mdamb231-mcf7-lclc/fibronectin_full/',\n",
    "]\n",
    "result_paths = [\n",
    "    './results/3rd_run/hela-mdamb231-mcf7-lclc/',\n",
    "    './results/mdamb231-mcf7-lclc/',\n",
    "    './results/mdamb231-mcf7/',\n",
    "    './results/preo-hela-lclc/',\n",
    "    './results/preo-hela-mdamb231-mcf7-lclc/',\n",
    "]"
   ]
  },
  {
   "cell_type": "code",
   "execution_count": 5,
   "metadata": {},
   "outputs": [
    {
     "name": "stdout",
     "output_type": "stream",
     "text": [
      "../cell_data/data/1d-class-datasets/interpolated-3rd-run/2hrs/preo-hela-mdamb231-mcf7-lclc/sampled/train-test/ ./results/8th_run/2hrs/preo-hela-mdamb231-mcf7-lclc/ ../cell_data/data/1d-class-datasets/interpolated-3rd-run/2hrs/\n",
      "Loading data from ../cell_data/data/1d-class-datasets/interpolated-3rd-run/2hrs/preo-hela-mdamb231-mcf7-lclc/sampled/train-test/\n",
      "train shape: (1300, 2404), test shape: (325, 2404)\n"
     ]
    },
    {
     "name": "stderr",
     "output_type": "stream",
     "text": [
      "2023-05-04 17:00:54.427241: I tensorflow/compiler/xla/stream_executor/cuda/cuda_gpu_executor.cc:981] successful NUMA node read from SysFS had negative value (-1), but there must be at least one NUMA node, so returning NUMA node zero\n",
      "2023-05-04 17:00:54.452386: I tensorflow/compiler/xla/stream_executor/cuda/cuda_gpu_executor.cc:981] successful NUMA node read from SysFS had negative value (-1), but there must be at least one NUMA node, so returning NUMA node zero\n",
      "2023-05-04 17:00:54.452582: I tensorflow/compiler/xla/stream_executor/cuda/cuda_gpu_executor.cc:981] successful NUMA node read from SysFS had negative value (-1), but there must be at least one NUMA node, so returning NUMA node zero\n",
      "2023-05-04 17:00:54.453539: I tensorflow/compiler/xla/stream_executor/cuda/cuda_gpu_executor.cc:981] successful NUMA node read from SysFS had negative value (-1), but there must be at least one NUMA node, so returning NUMA node zero\n",
      "2023-05-04 17:00:54.453690: I tensorflow/compiler/xla/stream_executor/cuda/cuda_gpu_executor.cc:981] successful NUMA node read from SysFS had negative value (-1), but there must be at least one NUMA node, so returning NUMA node zero\n",
      "2023-05-04 17:00:54.453830: I tensorflow/compiler/xla/stream_executor/cuda/cuda_gpu_executor.cc:981] successful NUMA node read from SysFS had negative value (-1), but there must be at least one NUMA node, so returning NUMA node zero\n",
      "2023-05-04 17:00:54.939968: I tensorflow/compiler/xla/stream_executor/cuda/cuda_gpu_executor.cc:981] successful NUMA node read from SysFS had negative value (-1), but there must be at least one NUMA node, so returning NUMA node zero\n",
      "2023-05-04 17:00:54.940150: I tensorflow/compiler/xla/stream_executor/cuda/cuda_gpu_executor.cc:981] successful NUMA node read from SysFS had negative value (-1), but there must be at least one NUMA node, so returning NUMA node zero\n",
      "2023-05-04 17:00:54.940303: I tensorflow/compiler/xla/stream_executor/cuda/cuda_gpu_executor.cc:981] successful NUMA node read from SysFS had negative value (-1), but there must be at least one NUMA node, so returning NUMA node zero\n",
      "2023-05-04 17:00:54.940432: I tensorflow/core/common_runtime/gpu/gpu_device.cc:1613] Created device /job:localhost/replica:0/task:0/device:GPU:0 with 5333 MB memory:  -> device: 0, name: NVIDIA GeForce GTX 1060 6GB, pci bus id: 0000:01:00.0, compute capability: 6.1\n",
      "2023-05-04 17:00:55.609802: I tensorflow/compiler/xla/stream_executor/cuda/cuda_dnn.cc:428] Loaded cuDNN version 8500\n"
     ]
    },
    {
     "name": "stdout",
     "output_type": "stream",
     "text": [
      "Loading data from ../cell_data/data/1d-class-datasets/interpolated-3rd-run/2hrs/preo-hela-mdamb231-mcf7-lclc/sampled/train-test/\n",
      "train shape: (1300, 2404), test shape: (325, 2404)\n",
      "Loading data from ../cell_data/data/1d-class-datasets/interpolated-3rd-run/2hrs/preo-hela-mdamb231-mcf7-lclc/sampled/train-test/\n",
      "train shape: (1300, 2404), test shape: (325, 2404)\n"
     ]
    }
   ],
   "source": [
    "# for d_path, r_path in zip(data_paths, result_paths):\n",
    "i = 0\n",
    "d_path = '../cell_data/data/1d-class-datasets/interpolated-3rd-run/2hrs/preo-hela-mdamb231-mcf7-lclc/sampled/train-test/'\n",
    "r_path = './results/8th_run/2hrs/preo-hela-mdamb231-mcf7-lclc/'\n",
    "run(d_path, r_path, COLOR_PATH)"
   ]
  },
  {
   "cell_type": "code",
   "execution_count": null,
   "metadata": {},
   "outputs": [],
   "source": []
  }
 ],
 "metadata": {
  "kernelspec": {
   "display_name": "Python 3 (ipykernel)",
   "language": "python",
   "name": "python3"
  },
  "language_info": {
   "codemirror_mode": {
    "name": "ipython",
    "version": 3
   },
   "file_extension": ".py",
   "mimetype": "text/x-python",
   "name": "python",
   "nbconvert_exporter": "python",
   "pygments_lexer": "ipython3",
   "version": "3.10.6"
  },
  "vscode": {
   "interpreter": {
    "hash": "2fd3bbdfa923658c6d5e5671aecb15a5f4bacb63005c242ea558ac2164f2eb45"
   }
  }
 },
 "nbformat": 4,
 "nbformat_minor": 2
}
